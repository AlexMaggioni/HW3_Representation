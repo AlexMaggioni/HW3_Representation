{
  "cells": [
    {
      "cell_type": "markdown",
      "metadata": {
        "id": "-k_bJg7BWDBT"
      },
      "source": [
        "# Objectif :\n",
        "\n",
        "Dans ce devoir, vous implémenterez l'algorithme d'apprentissage contrastif auto-supervisé, [SimCLR](https://arxiv.org/abs/2002.05709), en utilisant PyTorch. Vous utiliserez le dataset STL-10 pour ce devoir.\n",
        "\n",
        "Vous devez compléter la définition de la classe `Net`, la définition de la classe de dataset `SimCLRDataset` et la perte SimCLR dans la classe `Trainer`. Vous devez exécuter la boucle d'entraînement, sauvegarder le meilleur modèle d'entraînement et évaluer en utilisant la tâche de classification `sonde linéaire`. Comme nous n'avons pas assez de ressources GPU et que l'algorithme d'apprentissage contrastif comme SimCLR a généralement besoin d'environ `1000` époques pour s'entraîner (nous n'avons que `70` époques), vous n'obtiendrez peut-être pas les meilleures performances. Ainsi, du côté des performances, tant que vous voyez que la perte diminue (jusqu'à environ 7.4 à `70` époques) et que la précision augmente, c'est bon.\n",
        "\n",
        "Note :\n",
        "\n",
        "- **Remplir la définition de la classe Net (5 points).**\n",
        "- **Remplir la définition de la classe de dataset SimCLRDataset (10 points).**\n",
        "- **Remplir la perte SimCLR dans la classe Trainer (20 points).**\n",
        "- **Enregistrer la perte d'entraînement dans les 70 époques, plus elle est basse, mieux c'est (5 points).**\n",
        "- **Enregistrer la précision de la sonde linéaire, plus elle est haute, mieux c'est (5 points).**\n",
        "- **Rédiger un rapport incluant :**\n",
        "  - **Comment vous sélectionnez l'augmentation des données (transformation) dans le pool de transformations.**\n",
        "  - **Comment vous implémentez la perte SimCLR et expliquez pourquoi votre perte SimCLR est efficace en termes de calcul et équivalente à la fonction de perte dans l'article.**\n",
        "  - **Inclure la courbe de perte d'entraînement et la précision en aval (15 points). Notez que la logique de journalisation n'est pas fournie, veuillez l'implémenter avant de commencer l'entraînement.**\n",
        "---\n",
        "Veuillez NE PAS changer la configuration fournie. Ne changez le code donné que si vous êtes sûr que le changement est nécessaire. Il est recommandé d'**utiliser une session CPU pour déboguer** lorsque le GPU n'est pas nécessaire puisque Colab ne donne que 12 heures d'accès GPU gratuit à la fois. Si vous utilisez toutes les ressources GPU, vous pouvez envisager d'utiliser les ressources GPU de Kaggle. Merci et bonne chance !"
      ]
    },
    {
      "cell_type": "markdown",
      "metadata": {
        "id": "7TSjaMEiemQe"
      },
      "source": [
        "# Apprentissage auto-supervisé : SimCLR\n",
        "\n",
        "Apprentissage auto-supervisé\n",
        "\n",
        "1.   Concevoir une tâche auxiliaire.\n",
        "2.   Entraîner le réseau de base sur la tâche auxiliaire.\n",
        "3.   Évaluer sur la tâche aval : Entraîner un nouveau décodeur basé sur l'encodeur formé.\n",
        "\n",
        "Plus spécifiquement, comme l'un des algorithmes d'apprentissage auto-supervisé les plus réussis, SimCLR, un algorithme d'apprentissage contrastif, est notre centre d'intérêt aujourd'hui. Ci-dessous, nous allons mettre en œuvre SimCLR comme un exemple d'apprentissage auto-supervisé."
      ]
    },
    {
      "cell_type": "markdown",
      "metadata": {
        "id": "0ocq-13HDLET"
      },
      "source": [
        "<img src=\"https://camo.githubusercontent.com/35af3432fbe91c56a934b5ee58931b4848ab35043830c9dd6f08fa41e6eadbe7/68747470733a2f2f312e62702e626c6f6773706f742e636f6d2f2d2d764834504b704539596f2f586f3461324259657276492f414141414141414146704d2f766146447750584f79416f6b4143385868383532447a4f67457332324e68625877434c63424741735948512f73313630302f696d616765342e676966\" width=\"650\" height=\"650\">"
      ]
    },
    {
      "cell_type": "code",
      "execution_count": 1,
      "metadata": {
        "id": "MtZk2Wb_V7Z7"
      },
      "outputs": [],
      "source": [
        "# Config\n",
        "# Comme nous utilisons jupyter notebook, nous utilisons easydict pour micic argparse. N'hésitez pas à utiliser d'autres formats de configuration\n",
        "from easydict import EasyDict\n",
        "import torch.nn as nn\n",
        "from tqdm import tqdm\n",
        "import torch\n",
        "\n",
        "config = {\n",
        "    'dataset_name': 'stl10',\n",
        "    'workers': 1,\n",
        "    'epochs': 70,\n",
        "    'batch_size': 3072,\n",
        "    'lr': 0.0003,\n",
        "    'weight_decay': 1e-4,\n",
        "    'seed': 4242,\n",
        "    'fp16_precision': True,\n",
        "    'out_dim': 128,\n",
        "    'temperature': 0.5,\n",
        "    'n_views': 2,\n",
        "    'device': \"cuda\",\n",
        "}\n",
        "args = EasyDict(config)"
      ]
    },
    {
      "cell_type": "markdown",
      "metadata": {
        "id": "C6fxqKRifbgC"
      },
      "source": [
        "Nous allons utiliser le [dataset STL-10](https://cs.stanford.edu/~acoates/stl10/).\n",
        "\n",
        "Aperçu\n",
        "\n",
        "*   10 classes : avion, oiseau, voiture, chat, cerf, chien, cheval, singe, bateau, camion.\n",
        "*   Les images sont en couleur et mesurent **96x96** pixels.\n",
        "*   500 images d'entraînement (10 plis pré-définis), 800 images de test par classe.\n",
        "*   100000 images non étiquetées pour l'apprentissage non supervisé. Ces exemples sont extraits d'une distribution d'images similaire mais plus large. Par exemple, elle contient d'autres types d'animaux (ours, lapins, etc.) et de véhicules (trains, bus, etc.) en plus de ceux du set étiqueté.\n",
        "*   Les images ont été acquises à partir d'exemples étiquetés sur ImageNet.\n"
      ]
    },
    {
      "cell_type": "markdown",
      "metadata": {
        "id": "7D9x3PGGlwQO"
      },
      "source": [
        "## Préparation\n",
        "\n",
        "Définir un ResNet-18 et une couche MLP supplémentaire comme le modèle d'entraînement dans la tâche auxiliaire."
      ]
    },
    {
      "cell_type": "code",
      "execution_count": 2,
      "metadata": {
        "id": "hNUQ1b8lp68n"
      },
      "outputs": [],
      "source": [
        "import torchvision.models as models\n",
        "\n",
        "class Net(nn.Module):\n",
        "    def __init__(self):\n",
        "        super(Net, self).__init__()\n",
        "        self.basemodel = models.resnet18(pretrained=False, num_classes=args.out_dim)\n",
        "        self.fc_in_features = self.basemodel.fc.in_features\n",
        "        self.backup_fc = None\n",
        "\n",
        "        # On ajoute la `projection head g(.)` après le average pooling. \n",
        "        # Voici un extrait du papier SimCLR: \n",
        "        #  \"We use a MLP with one hidden layer to obtain zi = g(hi) = W(2)σ(W(1)hi) where σ is a ReLU nonlinearity. Here hi ∈ Rd is the output after the average pooling layer.\"\n",
        "        self.basemodel.fc = nn.Sequential(\n",
        "            nn.Linear(self.fc_in_features, self.fc_in_features),\n",
        "            nn.ReLU(),\n",
        "            self.basemodel.fc\n",
        "        )\n",
        "\n",
        "    def forward(self, x):\n",
        "        return self.basemodel(x)\n",
        "\n",
        "    def linear_probe(self):\n",
        "        self.freeze_basemodel_encoder()\n",
        "        self.backup_fc = self.basemodel.fc  # Sauvegarde de la dernière couche linéaire\n",
        "        # ToDo: implement la sonde linéaire pour votre tâche en aval. Un prob linéaire est simplement une couche linéaire (pas de MLP, pas de couche d'activation incluse) après le codeur appris.\n",
        "        self.basemodel.fc = nn.Linear(self.fc_in_features, 10)\n",
        "\n",
        "    def restore_backbone(self):\n",
        "        self.basemodel.fc = self.backup_fc\n",
        "        self.backup_fc = None\n",
        "\n",
        "    def freeze_basemodel_encoder(self):\n",
        "        # ne pas geler les poids self.basemodel.fc\n",
        "        for name, param in self.basemodel.named_parameters():\n",
        "            if 'fc' not in name:\n",
        "                param.requires_grad = False"
      ]
    },
    {
      "cell_type": "markdown",
      "metadata": {
        "id": "aKxWA4tDg9vE"
      },
      "source": [
        "# Étape 1 : Concevoir la tâche auxiliaire."
      ]
    },
    {
      "cell_type": "markdown",
      "metadata": {},
      "source": [
        "### Construire le dataset"
      ]
    },
    {
      "cell_type": "code",
      "execution_count": 3,
      "metadata": {
        "id": "bg61k4QVfa2_"
      },
      "outputs": [],
      "source": [
        "from torchvision import transforms, datasets\n",
        "from torch.utils.data import DataLoader\n",
        "import torch\n",
        "\n",
        "#############################################################################\n",
        "# Calcul des valeurs de la moyenne et de l'écart-type pour la normalisation #\n",
        "#############################################################################\n",
        "\n",
        "# # Define a transform to convert images to tensors\n",
        "# transform = transforms.Compose([\n",
        "#     transforms.ToTensor()\n",
        "# ])\n",
        "# \n",
        "# # Load the STL-10 dataset with the defined transform\n",
        "# dataset = datasets.STL10(root='./datasets', split='unlabeled', download=True, transform=transform)\n",
        "# \n",
        "# # Create a DataLoader\n",
        "# dataloader = DataLoader(dataset, batch_size=64, shuffle=False)\n",
        "# \n",
        "# def compute_mean_std(loader):\n",
        "#     channel_sum, channel_squared_sum, num_batches = 0, 0, 0\n",
        "#     for data, _ in loader:\n",
        "#         # Rearrange batch to be the shape of [B, C, H, W]\n",
        "#         data = data.view(data.size(0), data.size(1), -1)\n",
        "#         # Update sums and squared sums\n",
        "#         channel_sum += torch.mean(data, dim=[0, 2])\n",
        "#         channel_squared_sum += torch.mean(data**2, dim=[0, 2])\n",
        "#         num_batches += 1\n",
        "#     mean = channel_sum / num_batches\n",
        "#     std = (channel_squared_sum / num_batches - mean ** 2) ** 0.5\n",
        "#     return mean, std\n",
        "# \n",
        "# # Compute and print mean and std\n",
        "# mean, std = compute_mean_std(dataloader)\n",
        "# print(\"\\n\")\n",
        "# print(f\"Mean: {mean.tolist()}\")\n",
        "# print(f\"Std: {std.tolist()}\")\n",
        "\n",
        "#############################################################################\n",
        "# Classes pour le chargement des données et les transformations pour SimCLR #\n",
        "#############################################################################\n",
        "\n",
        "class View_sampler(object):\n",
        "    \"\"\"This class randomly sample two transforms from the list of transforms for the SimCLR to use. It is used in the SimCLRDataset.get_dataset.\"\"\"\n",
        "\n",
        "    def __init__(self, transforms, n_views=2):\n",
        "        self.transforms = transforms\n",
        "        self.n_views = n_views\n",
        "\n",
        "    def __call__(self, x):\n",
        "        return [self.transforms(x) for i in range(self.n_views)]\n",
        "\n",
        "\n",
        "class SimCLRDataset:\n",
        "    def __init__(self, root_folder=\"./datasets\"):\n",
        "        self.root_folder = root_folder\n",
        "\n",
        "    @staticmethod\n",
        "    def transforms_pool(size=96):\n",
        "\n",
        "        data_transforms = transforms.Compose([\n",
        "            transforms.RandomResizedCrop(size=(size, size)),\n",
        "            transforms.RandomHorizontalFlip(),\n",
        "            transforms.RandomApply([transforms.ColorJitter(0.8, 0.8, 0.8, 0.2)], p=0.8),\n",
        "            transforms.RandomGrayscale(p=0.2), \n",
        "            transforms.RandomApply([transforms.GaussianBlur(11, sigma=(0.1, 2.0))], p=0.5),\n",
        "            transforms.ToTensor(), \n",
        "            transforms.Normalize(mean=[0.44058355689048767, 0.42731037735939026, 0.38579756021499634], std=[0.2686561346054077, 0.2612513303756714, 0.2684949040412903]) # Ces valeurs ont été calculées précédemment\n",
        "        ])\n",
        "        \n",
        "        return data_transforms\n",
        "\n",
        "    def get_dataset(self):\n",
        "        dataset_fn = lambda: datasets.STL10(self.root_folder, split='unlabeled', transform=View_sampler(self.transforms_pool(), 2), download=True)\n",
        "        return dataset_fn()"
      ]
    },
    {
      "cell_type": "markdown",
      "metadata": {
        "id": "lTHLDeCalsbx"
      },
      "source": [
        "## Définir le chargeur de données, l'optimiseur et le planificateur\n",
        "\n",
        "Qu'est-ce qu'un planificateur ?\n",
        "\n",
        "Un planificateur aide à optimiser la convergence, à éviter les minima locaux et potentiellement à améliorer la performance du modèle sur la tâche donnée. Le taux d'apprentissage est l'un des hyperparamètres les plus importants pour l'entraînement des réseaux neuronaux, et trouver un programme de taux d'apprentissage approprié peut être crucial pour le succès de votre modèle.\n",
        "\n",
        "En savoir plus ici : https://pytorch.org/docs/stable/optim.html#how-to-adjust-learning-rate"
      ]
    },
    {
      "cell_type": "code",
      "execution_count": 4,
      "metadata": {
        "id": "CpMp8XB3lma1"
      },
      "outputs": [
        {
          "name": "stderr",
          "output_type": "stream",
          "text": [
            "/home/zeus/miniconda3/envs/cloudspace/lib/python3.10/site-packages/torchvision/models/_utils.py:208: UserWarning: The parameter 'pretrained' is deprecated since 0.13 and may be removed in the future, please use 'weights' instead.\n",
            "  warnings.warn(\n",
            "/home/zeus/miniconda3/envs/cloudspace/lib/python3.10/site-packages/torchvision/models/_utils.py:223: UserWarning: Arguments other than a weight enum or `None` for 'weights' are deprecated since 0.13 and may be removed in the future. The current behavior is equivalent to passing `weights=None`.\n",
            "  warnings.warn(msg)\n"
          ]
        },
        {
          "name": "stdout",
          "output_type": "stream",
          "text": [
            "Files already downloaded and verified\n"
          ]
        }
      ],
      "source": [
        "from torch.utils.data import DataLoader\n",
        "from torch.optim.lr_scheduler import CosineAnnealingLR\n",
        "\n",
        "model = Net()\n",
        "dataset = SimCLRDataset()\n",
        "train_dataset = dataset.get_dataset()\n",
        "\n",
        "# ToDo, définir un chargeur de données basé sur le train_dataset avec drop_last=True\n",
        "dataloader = DataLoader(train_dataset, batch_size=args.batch_size, shuffle=True, num_workers=args.workers, drop_last=True)\n",
        "\n",
        "# ToDo, définir un optimiseur avec args.lr comme taux d'apprentissage et args.weight_decay comme weight_decay\n",
        "optimizer = torch.optim.AdamW(model.parameters(), lr=args.lr, weight_decay=args.weight_decay) # Utilisé AdamW car il y a une utilisation de weight_decay. On aurait aussi pu utiliser LARS comme dans le papier.\n",
        "\n",
        "# ToDo, définir un planificateur lr_scheduler CosineAnnealingLR pour l'optimiseur\n",
        "lr_scheduler = torch.optim.lr_scheduler.CosineAnnealingLR(optimizer, T_max=len(dataloader), eta_min=0, last_epoch=-1)"
      ]
    },
    {
      "cell_type": "markdown",
      "metadata": {
        "id": "MBeD23fj0UdR"
      },
      "source": [
        "# Définir le formateur"
      ]
    },
    {
      "cell_type": "markdown",
      "metadata": {
        "id": "vrEbwApkCnVc"
      },
      "source": [
        "L'Automatic Mixed Precision (AMP) est une technique visant à améliorer la vitesse et l'efficacité de l'entraînement des réseaux neuronaux profonds en utilisant l'entraînement en précision mixte.\n",
        "\n",
        "**Introduction à l'AMP**\n",
        "\n",
        "L'AMP permet à l'entraînement des réseaux neuronaux d'utiliser simultanément l'arithmétique à simple précision (FP32) et à demi-précision (FP16). L'idée principale derrière l'AMP est de réaliser certaines opérations en FP16 pour exploiter l'arithmétique plus rapide et la réduction de l'utilisation de la mémoire de calcul à précision inférieure, tout en maintenant les parties critiques du calcul en FP32 pour assurer la précision et la stabilité du modèle.\n",
        "\n",
        "**Pourquoi Nous Ne Pouvons Pas Toujours Utiliser le FP16**\n",
        "\n",
        "\n",
        "\n",
        "*   **Stabilité Numérique** : Le FP16 a une plage dynamique plus petite et une précision inférieure par rapport au FP32. Cette limitation peut conduire à une instabilité numérique, telle que des sous-débordements et des surdébordements, en particulier pendant des opérations qui impliquent de petites valeurs de gradient ou nécessitent une haute précision numérique. Cela peut affecter négativement la convergence et la précision du modèle entraîné.\n",
        "*   **Exigences Sélectives de Précision** : Certaines opérations et couches au sein des réseaux neuronaux sont plus sensibles à la précision que d'autres. Par exemple, les mises à jour de poids dans les optimiseurs peuvent nécessiter le FP32 pour maintenir la précision dans le temps. Les stratégies AMP impliquent donc d'appliquer sélectivement le FP16 à des parties du calcul où cela peut être bénéfique sans compromettre l'ensemble du processus d'entraînement.\n",
        "\n",
        "Ci-dessous, nous présentons comment inclure la logique AMP dans la procédure d'entraînement standard de torch.\n",
        "\n",
        "Avant d'inclure AMP :\n",
        "```python\n",
        "for batch in data_loader:\n",
        "    # Forward pass\n",
        "    inputs, targets = batch\n",
        "    outputs = model(inputs)\n",
        "    loss = loss_fn(outputs, targets)\n",
        "\n",
        "    # Backward pass and optimize\n",
        "    optimizer.zero_grad()\n",
        "    loss.backward()\n",
        "    optimizer.step()\n",
        "```\n",
        "\n",
        "Après avoir inclus AMP :\n",
        "```python\n",
        "from torch.cuda.amp import GradScaler, autocast\n",
        "\n",
        "scaler = GradScaler()\n",
        "\n",
        "for batch in data_loader:\n",
        "    inputs, targets = batch[0].cuda(), batch[1].cuda()\n",
        "\n",
        "    # Forward pass\n",
        "    with autocast():\n",
        "        outputs = model(inputs)\n",
        "        loss = loss_fn(outputs, targets)\n",
        "\n",
        "    # Backward pass and optimize\n",
        "    optimizer.zero_grad()\n",
        "    scaler.scale(loss).backward()\n",
        "    scaler.step(optimizer)\n",
        "    scaler.update()\n",
        "```\n",
        "\n",
        "\n",
        "Read more here: https://pytorch.org/docs/stable/amp.html"
      ]
    },
    {
      "cell_type": "markdown",
      "metadata": {
        "id": "oBOPRrzsemQi"
      },
      "source": [
        "## Implémenter la fonction de perte dans l'entraîneur\n",
        "L'algorithme de la fonction de perte SimCLR est le suivant :\n",
        "\n",
        "$$\n",
        "\\begin{aligned}\n",
        "&\\text{for all } i \\in \\{1, \\ldots, 2N\\} \\text{ and } j \\in \\{1, \\ldots, 2N\\} \\text{ do} \\\\\n",
        "&\\quad s_{i,j} = \\frac{z_i^\\top z_j}{\\|z_i\\|\\|z_j\\|} \\quad \\text{pairwise similarity} \\\\\n",
        "&\\text{end for} \\\\\n",
        "&\\text{define } \\ell(i,j) \\text{ as } \\ell(i,j) = -\\log \\left( \\frac{\\exp(s_{i,j} / \\tau)}{\\sum_{k=1}^{2N} \\mathbb{1}_{[k \\neq j]} \\exp(s_{i,k} / \\tau)} \\right) \\\\\n",
        "&\\mathcal{L} = \\frac{1}{2N} \\sum_{k=1}^{N} \\left[\\ell(2k-1, 2k) + \\ell(2k, 2k-1)\\right] \\\\\n",
        "&\\text{update networks } f \\text{ and } g \\text{ to minimize } \\mathcal{L}\n",
        "\\end{aligned}\n",
        "$$\n",
        "\n",
        "\n",
        "Veuillez remplir les blancs de la fonction de perte ci-dessous. Conseil : mettez en place un masque pour éviter d'inclure la similarité entre soi et soi, ainsi que les paires positives et les paires négatives."
      ]
    },
    {
      "cell_type": "code",
      "execution_count": 5,
      "metadata": {
        "id": "qo_7-Eop0T4Y"
      },
      "outputs": [],
      "source": [
        "import torch\n",
        "import torch.nn.functional as F\n",
        "from torch.cuda.amp import GradScaler, autocast\n",
        "\n",
        "class Trainer():\n",
        "    def __init__(self, *args, **kwargs):\n",
        "        self.args = kwargs['args']\n",
        "        self.model = kwargs['model'].to(self.args.device)\n",
        "        self.optimizer = kwargs['optimizer']\n",
        "        self.scheduler = kwargs['scheduler']\n",
        "        self.criterion = torch.nn.CrossEntropyLoss().to(self.args.device)\n",
        "        self.losses = []\n",
        "\n",
        "    def loss(self, features):\n",
        "        # Les caractéristiques d'entrée sont un tenseur de torche avec une forme de (2*batch_size, out_dim)\n",
        "        # Les paires positives sont (features[i] et features[i+batch_size]) pour tout i\n",
        "        \n",
        "        # Les étiquettes sont simplement les indices de la classe pour chaque image\n",
        "        batch_indices = torch.arange(self.args.batch_size).repeat(self.args.n_views)\n",
        "        labels = torch.eq(batch_indices.unsqueeze(0), batch_indices.unsqueeze(1)).float().to(self.args.device)\n",
        "        \n",
        "        # Normaliser les vecteurs pour avoir une norme de 1\n",
        "        normalized_features = F.normalize(features, dim=1)\n",
        "\n",
        "        # Calculer la matrice de similarité (cosine similarity)\n",
        "        similarity = torch.mm(normalized_features, normalized_features.T)\n",
        "\n",
        "        # Enlever les éléments diagonaux, car ils correspondent à la similarité de l'image avec elle-même\n",
        "        diagonal_mask = torch.eye(labels.size(0), dtype=torch.bool).to(self.args.device)\n",
        "        labels_filtered = labels.masked_select(~diagonal_mask).view(labels.size(0), -1)\n",
        "        similarity_filtered = similarity.masked_select(~diagonal_mask).view(similarity.size(0), -1)\n",
        "\n",
        "        # Sélectionner uniquement les positifs et négatifs sans besoin de reformater comme précédemment\n",
        "        positive_pairs = similarity_filtered[labels_filtered.bool()].view(labels.size(0), -1)\n",
        "        negative_pairs = similarity_filtered[~labels_filtered.bool()].view(labels.size(0), -1)\n",
        "\n",
        "        # Préparer les logits pour le calcul de perte\n",
        "        logits = torch.cat([positive_pairs, negative_pairs], dim=1) / self.args.temperature\n",
        "        zero_labels = torch.zeros(logits.size(0), dtype=torch.long).to(self.args.device)\n",
        "        \n",
        "        return self.criterion(logits, zero_labels)\n",
        "\n",
        "    def train(self, dataloader):\n",
        "        # Implement GradScaler if AMP\n",
        "        best_loss = 1e4\n",
        "        scaler = GradScaler(enabled=self.args.fp16_precision)\n",
        "        for epoch in range(self.args.epochs):\n",
        "            for images, _ in tqdm(dataloader):\n",
        "                images = torch.cat(images, dim=0)\n",
        "                images = images.to(self.args.device)\n",
        "\n",
        "                with autocast(enabled=self.args.fp16_precision):\n",
        "                    features = self.model(images)\n",
        "                    loss = self.loss(features)\n",
        "                    self.losses.append(loss.item())\n",
        "                    \n",
        "                self.optimizer.zero_grad()\n",
        "\n",
        "                scaler.scale(loss).backward()\n",
        "                scaler.step(self.optimizer)\n",
        "                scaler.update()\n",
        "\n",
        "                self.scheduler.step()\n",
        "\n",
        "            # Warmup for the first 10 epochs (échauffement pour les 10 premières époques)\n",
        "            if epoch >= 10:\n",
        "                self.scheduler.step()\n",
        "            if epoch % 10 == 0 and epoch != 0:\n",
        "                self.save_model(self.model, f\"./HW3_Representation/simclr_models/model_{epoch}.pth\")\n",
        "            if loss < best_loss:\n",
        "                best_loss = loss\n",
        "                self.save_model(self.model, f\"./HW3_Representation/simclr_models/best_model.pth\")\n",
        "            print(f\"Epoch {epoch}, Loss {loss.item()}\")\n",
        "        \n",
        "        return self.model, self.losses\n",
        "\n",
        "    def save_model(self, model, path):\n",
        "        torch.save(model.state_dict(), path)"
      ]
    },
    {
      "cell_type": "markdown",
      "metadata": {
        "id": "nrqKVgUeFfM8"
      },
      "source": [
        "# Étape 2 : Entraînez le réseau de base sur la tâche auxiliaire pendant 70 époques et sauvegardez le meilleur modèle que vous avez pour l'évaluation.\n",
        "\n",
        "Vérifiez si la perte d'entraînement diminue avec le temps et essayez de capturer d'autres bogues possibles à l'aide d'outils de journalisation."
      ]
    },
    {
      "cell_type": "code",
      "execution_count": 6,
      "metadata": {},
      "outputs": [
        {
          "name": "stderr",
          "output_type": "stream",
          "text": [
            "  0%|          | 0/32 [00:00<?, ?it/s]"
          ]
        },
        {
          "name": "stderr",
          "output_type": "stream",
          "text": [
            "100%|██████████| 32/32 [05:11<00:00,  9.75s/it]\n"
          ]
        },
        {
          "name": "stdout",
          "output_type": "stream",
          "text": [
            "Epoch 0, Loss 8.21781063079834\n"
          ]
        },
        {
          "name": "stderr",
          "output_type": "stream",
          "text": [
            "100%|██████████| 32/32 [05:11<00:00,  9.73s/it]\n"
          ]
        },
        {
          "name": "stdout",
          "output_type": "stream",
          "text": [
            "Epoch 1, Loss 8.148459434509277\n"
          ]
        },
        {
          "name": "stderr",
          "output_type": "stream",
          "text": [
            "100%|██████████| 32/32 [05:11<00:00,  9.74s/it]\n"
          ]
        },
        {
          "name": "stdout",
          "output_type": "stream",
          "text": [
            "Epoch 2, Loss 7.920701503753662\n"
          ]
        },
        {
          "name": "stderr",
          "output_type": "stream",
          "text": [
            "100%|██████████| 32/32 [05:13<00:00,  9.78s/it]\n"
          ]
        },
        {
          "name": "stdout",
          "output_type": "stream",
          "text": [
            "Epoch 3, Loss 7.898890018463135\n"
          ]
        },
        {
          "name": "stderr",
          "output_type": "stream",
          "text": [
            "100%|██████████| 32/32 [05:12<00:00,  9.76s/it]\n"
          ]
        },
        {
          "name": "stdout",
          "output_type": "stream",
          "text": [
            "Epoch 4, Loss 7.806325912475586\n"
          ]
        },
        {
          "name": "stderr",
          "output_type": "stream",
          "text": [
            "100%|██████████| 32/32 [05:12<00:00,  9.78s/it]\n"
          ]
        },
        {
          "name": "stdout",
          "output_type": "stream",
          "text": [
            "Epoch 5, Loss 7.810787677764893\n"
          ]
        },
        {
          "name": "stderr",
          "output_type": "stream",
          "text": [
            "100%|██████████| 32/32 [05:12<00:00,  9.76s/it]\n"
          ]
        },
        {
          "name": "stdout",
          "output_type": "stream",
          "text": [
            "Epoch 6, Loss 7.713346481323242\n"
          ]
        },
        {
          "name": "stderr",
          "output_type": "stream",
          "text": [
            "100%|██████████| 32/32 [05:11<00:00,  9.74s/it]\n"
          ]
        },
        {
          "name": "stdout",
          "output_type": "stream",
          "text": [
            "Epoch 7, Loss 7.783642292022705\n"
          ]
        },
        {
          "name": "stderr",
          "output_type": "stream",
          "text": [
            "100%|██████████| 32/32 [05:13<00:00,  9.78s/it]\n"
          ]
        },
        {
          "name": "stdout",
          "output_type": "stream",
          "text": [
            "Epoch 8, Loss 7.7026753425598145\n"
          ]
        },
        {
          "name": "stderr",
          "output_type": "stream",
          "text": [
            "100%|██████████| 32/32 [05:13<00:00,  9.79s/it]\n"
          ]
        },
        {
          "name": "stdout",
          "output_type": "stream",
          "text": [
            "Epoch 9, Loss 7.727724075317383\n"
          ]
        },
        {
          "name": "stderr",
          "output_type": "stream",
          "text": [
            "100%|██████████| 32/32 [05:11<00:00,  9.73s/it]\n"
          ]
        },
        {
          "name": "stdout",
          "output_type": "stream",
          "text": [
            "Epoch 10, Loss 7.652337551116943\n"
          ]
        },
        {
          "name": "stderr",
          "output_type": "stream",
          "text": [
            "100%|██████████| 32/32 [05:13<00:00,  9.80s/it]\n"
          ]
        },
        {
          "name": "stdout",
          "output_type": "stream",
          "text": [
            "Epoch 11, Loss 7.699689865112305\n"
          ]
        },
        {
          "name": "stderr",
          "output_type": "stream",
          "text": [
            "100%|██████████| 32/32 [05:13<00:00,  9.80s/it]\n"
          ]
        },
        {
          "name": "stdout",
          "output_type": "stream",
          "text": [
            "Epoch 12, Loss 7.647653579711914\n"
          ]
        },
        {
          "name": "stderr",
          "output_type": "stream",
          "text": [
            "100%|██████████| 32/32 [05:12<00:00,  9.78s/it]\n"
          ]
        },
        {
          "name": "stdout",
          "output_type": "stream",
          "text": [
            "Epoch 13, Loss 7.650764465332031\n"
          ]
        },
        {
          "name": "stderr",
          "output_type": "stream",
          "text": [
            "100%|██████████| 32/32 [05:12<00:00,  9.77s/it]\n"
          ]
        },
        {
          "name": "stdout",
          "output_type": "stream",
          "text": [
            "Epoch 14, Loss 7.611963272094727\n"
          ]
        },
        {
          "name": "stderr",
          "output_type": "stream",
          "text": [
            "100%|██████████| 32/32 [05:13<00:00,  9.79s/it]\n"
          ]
        },
        {
          "name": "stdout",
          "output_type": "stream",
          "text": [
            "Epoch 15, Loss 7.646657943725586\n"
          ]
        },
        {
          "name": "stderr",
          "output_type": "stream",
          "text": [
            "100%|██████████| 32/32 [05:11<00:00,  9.75s/it]\n"
          ]
        },
        {
          "name": "stdout",
          "output_type": "stream",
          "text": [
            "Epoch 16, Loss 7.597519397735596\n"
          ]
        },
        {
          "name": "stderr",
          "output_type": "stream",
          "text": [
            "100%|██████████| 32/32 [05:14<00:00,  9.82s/it]\n"
          ]
        },
        {
          "name": "stdout",
          "output_type": "stream",
          "text": [
            "Epoch 17, Loss 7.621345043182373\n"
          ]
        },
        {
          "name": "stderr",
          "output_type": "stream",
          "text": [
            "100%|██████████| 32/32 [05:14<00:00,  9.83s/it]\n"
          ]
        },
        {
          "name": "stdout",
          "output_type": "stream",
          "text": [
            "Epoch 18, Loss 7.5710906982421875\n"
          ]
        },
        {
          "name": "stderr",
          "output_type": "stream",
          "text": [
            "100%|██████████| 32/32 [05:14<00:00,  9.82s/it]\n"
          ]
        },
        {
          "name": "stdout",
          "output_type": "stream",
          "text": [
            "Epoch 19, Loss 7.622778415679932\n"
          ]
        },
        {
          "name": "stderr",
          "output_type": "stream",
          "text": [
            "100%|██████████| 32/32 [05:13<00:00,  9.78s/it]\n"
          ]
        },
        {
          "name": "stdout",
          "output_type": "stream",
          "text": [
            "Epoch 20, Loss 7.5559515953063965\n"
          ]
        },
        {
          "name": "stderr",
          "output_type": "stream",
          "text": [
            "100%|██████████| 32/32 [05:13<00:00,  9.79s/it]\n"
          ]
        },
        {
          "name": "stdout",
          "output_type": "stream",
          "text": [
            "Epoch 21, Loss 7.579500198364258\n"
          ]
        },
        {
          "name": "stderr",
          "output_type": "stream",
          "text": [
            "100%|██████████| 32/32 [05:12<00:00,  9.76s/it]\n"
          ]
        },
        {
          "name": "stdout",
          "output_type": "stream",
          "text": [
            "Epoch 22, Loss 7.5574517250061035\n"
          ]
        },
        {
          "name": "stderr",
          "output_type": "stream",
          "text": [
            "100%|██████████| 32/32 [05:12<00:00,  9.76s/it]\n"
          ]
        },
        {
          "name": "stdout",
          "output_type": "stream",
          "text": [
            "Epoch 23, Loss 7.568568706512451\n"
          ]
        },
        {
          "name": "stderr",
          "output_type": "stream",
          "text": [
            "100%|██████████| 32/32 [05:12<00:00,  9.77s/it]\n"
          ]
        },
        {
          "name": "stdout",
          "output_type": "stream",
          "text": [
            "Epoch 24, Loss 7.526594638824463\n"
          ]
        },
        {
          "name": "stderr",
          "output_type": "stream",
          "text": [
            "100%|██████████| 32/32 [05:13<00:00,  9.80s/it]\n"
          ]
        },
        {
          "name": "stdout",
          "output_type": "stream",
          "text": [
            "Epoch 25, Loss 7.5708909034729\n"
          ]
        },
        {
          "name": "stderr",
          "output_type": "stream",
          "text": [
            "100%|██████████| 32/32 [05:13<00:00,  9.79s/it]\n"
          ]
        },
        {
          "name": "stdout",
          "output_type": "stream",
          "text": [
            "Epoch 26, Loss 7.5254435539245605\n"
          ]
        },
        {
          "name": "stderr",
          "output_type": "stream",
          "text": [
            "100%|██████████| 32/32 [05:12<00:00,  9.77s/it]\n"
          ]
        },
        {
          "name": "stdout",
          "output_type": "stream",
          "text": [
            "Epoch 27, Loss 7.532434463500977\n"
          ]
        },
        {
          "name": "stderr",
          "output_type": "stream",
          "text": [
            "100%|██████████| 32/32 [05:12<00:00,  9.76s/it]\n"
          ]
        },
        {
          "name": "stdout",
          "output_type": "stream",
          "text": [
            "Epoch 28, Loss 7.512414932250977\n"
          ]
        },
        {
          "name": "stderr",
          "output_type": "stream",
          "text": [
            "100%|██████████| 32/32 [05:12<00:00,  9.77s/it]\n"
          ]
        },
        {
          "name": "stdout",
          "output_type": "stream",
          "text": [
            "Epoch 29, Loss 7.523284435272217\n"
          ]
        },
        {
          "name": "stderr",
          "output_type": "stream",
          "text": [
            "100%|██████████| 32/32 [05:12<00:00,  9.75s/it]\n"
          ]
        },
        {
          "name": "stdout",
          "output_type": "stream",
          "text": [
            "Epoch 30, Loss 7.509281158447266\n"
          ]
        },
        {
          "name": "stderr",
          "output_type": "stream",
          "text": [
            "100%|██████████| 32/32 [05:13<00:00,  9.80s/it]\n"
          ]
        },
        {
          "name": "stdout",
          "output_type": "stream",
          "text": [
            "Epoch 31, Loss 7.494517803192139\n"
          ]
        },
        {
          "name": "stderr",
          "output_type": "stream",
          "text": [
            "100%|██████████| 32/32 [05:13<00:00,  9.80s/it]\n"
          ]
        },
        {
          "name": "stdout",
          "output_type": "stream",
          "text": [
            "Epoch 32, Loss 7.504003047943115\n"
          ]
        },
        {
          "name": "stderr",
          "output_type": "stream",
          "text": [
            "100%|██████████| 32/32 [05:14<00:00,  9.83s/it]\n"
          ]
        },
        {
          "name": "stdout",
          "output_type": "stream",
          "text": [
            "Epoch 33, Loss 7.498589992523193\n"
          ]
        },
        {
          "name": "stderr",
          "output_type": "stream",
          "text": [
            "100%|██████████| 32/32 [05:12<00:00,  9.78s/it]\n"
          ]
        },
        {
          "name": "stdout",
          "output_type": "stream",
          "text": [
            "Epoch 34, Loss 7.496962070465088\n"
          ]
        },
        {
          "name": "stderr",
          "output_type": "stream",
          "text": [
            "100%|██████████| 32/32 [05:13<00:00,  9.80s/it]\n"
          ]
        },
        {
          "name": "stdout",
          "output_type": "stream",
          "text": [
            "Epoch 35, Loss 7.493772029876709\n"
          ]
        },
        {
          "name": "stderr",
          "output_type": "stream",
          "text": [
            "100%|██████████| 32/32 [05:12<00:00,  9.76s/it]\n"
          ]
        },
        {
          "name": "stdout",
          "output_type": "stream",
          "text": [
            "Epoch 36, Loss 7.48351526260376\n"
          ]
        },
        {
          "name": "stderr",
          "output_type": "stream",
          "text": [
            "100%|██████████| 32/32 [05:13<00:00,  9.79s/it]\n"
          ]
        },
        {
          "name": "stdout",
          "output_type": "stream",
          "text": [
            "Epoch 37, Loss 7.469091892242432\n"
          ]
        },
        {
          "name": "stderr",
          "output_type": "stream",
          "text": [
            "100%|██████████| 32/32 [05:13<00:00,  9.80s/it]\n"
          ]
        },
        {
          "name": "stdout",
          "output_type": "stream",
          "text": [
            "Epoch 38, Loss 7.491557598114014\n"
          ]
        },
        {
          "name": "stderr",
          "output_type": "stream",
          "text": [
            "100%|██████████| 32/32 [05:13<00:00,  9.80s/it]\n"
          ]
        },
        {
          "name": "stdout",
          "output_type": "stream",
          "text": [
            "Epoch 39, Loss 7.47361421585083\n"
          ]
        },
        {
          "name": "stderr",
          "output_type": "stream",
          "text": [
            "100%|██████████| 32/32 [05:13<00:00,  9.79s/it]\n"
          ]
        },
        {
          "name": "stdout",
          "output_type": "stream",
          "text": [
            "Epoch 40, Loss 7.4888153076171875\n"
          ]
        },
        {
          "name": "stderr",
          "output_type": "stream",
          "text": [
            "100%|██████████| 32/32 [05:13<00:00,  9.79s/it]\n"
          ]
        },
        {
          "name": "stdout",
          "output_type": "stream",
          "text": [
            "Epoch 41, Loss 7.456981182098389\n"
          ]
        },
        {
          "name": "stderr",
          "output_type": "stream",
          "text": [
            "100%|██████████| 32/32 [05:12<00:00,  9.76s/it]\n"
          ]
        },
        {
          "name": "stdout",
          "output_type": "stream",
          "text": [
            "Epoch 42, Loss 7.4882988929748535\n"
          ]
        },
        {
          "name": "stderr",
          "output_type": "stream",
          "text": [
            "100%|██████████| 32/32 [05:11<00:00,  9.75s/it]\n"
          ]
        },
        {
          "name": "stdout",
          "output_type": "stream",
          "text": [
            "Epoch 43, Loss 7.465893268585205\n"
          ]
        },
        {
          "name": "stderr",
          "output_type": "stream",
          "text": [
            "100%|██████████| 32/32 [05:12<00:00,  9.75s/it]\n"
          ]
        },
        {
          "name": "stdout",
          "output_type": "stream",
          "text": [
            "Epoch 44, Loss 7.458802700042725\n"
          ]
        },
        {
          "name": "stderr",
          "output_type": "stream",
          "text": [
            "100%|██████████| 32/32 [05:12<00:00,  9.77s/it]\n"
          ]
        },
        {
          "name": "stdout",
          "output_type": "stream",
          "text": [
            "Epoch 45, Loss 7.446221828460693\n"
          ]
        },
        {
          "name": "stderr",
          "output_type": "stream",
          "text": [
            "100%|██████████| 32/32 [05:12<00:00,  9.76s/it]\n"
          ]
        },
        {
          "name": "stdout",
          "output_type": "stream",
          "text": [
            "Epoch 46, Loss 7.519690990447998\n"
          ]
        },
        {
          "name": "stderr",
          "output_type": "stream",
          "text": [
            "100%|██████████| 32/32 [05:13<00:00,  9.79s/it]\n"
          ]
        },
        {
          "name": "stdout",
          "output_type": "stream",
          "text": [
            "Epoch 47, Loss 7.435196399688721\n"
          ]
        },
        {
          "name": "stderr",
          "output_type": "stream",
          "text": [
            "100%|██████████| 32/32 [05:12<00:00,  9.77s/it]\n"
          ]
        },
        {
          "name": "stdout",
          "output_type": "stream",
          "text": [
            "Epoch 48, Loss 7.471944332122803\n"
          ]
        },
        {
          "name": "stderr",
          "output_type": "stream",
          "text": [
            "100%|██████████| 32/32 [05:13<00:00,  9.79s/it]\n"
          ]
        },
        {
          "name": "stdout",
          "output_type": "stream",
          "text": [
            "Epoch 49, Loss 7.442105770111084\n"
          ]
        },
        {
          "name": "stderr",
          "output_type": "stream",
          "text": [
            "100%|██████████| 32/32 [05:14<00:00,  9.82s/it]\n"
          ]
        },
        {
          "name": "stdout",
          "output_type": "stream",
          "text": [
            "Epoch 50, Loss 7.501300811767578\n"
          ]
        },
        {
          "name": "stderr",
          "output_type": "stream",
          "text": [
            "100%|██████████| 32/32 [05:13<00:00,  9.80s/it]\n"
          ]
        },
        {
          "name": "stdout",
          "output_type": "stream",
          "text": [
            "Epoch 51, Loss 7.428314208984375\n"
          ]
        },
        {
          "name": "stderr",
          "output_type": "stream",
          "text": [
            "100%|██████████| 32/32 [05:13<00:00,  9.79s/it]\n"
          ]
        },
        {
          "name": "stdout",
          "output_type": "stream",
          "text": [
            "Epoch 52, Loss 7.441234111785889\n"
          ]
        },
        {
          "name": "stderr",
          "output_type": "stream",
          "text": [
            "100%|██████████| 32/32 [05:11<00:00,  9.75s/it]\n"
          ]
        },
        {
          "name": "stdout",
          "output_type": "stream",
          "text": [
            "Epoch 53, Loss 7.423635005950928\n"
          ]
        },
        {
          "name": "stderr",
          "output_type": "stream",
          "text": [
            "100%|██████████| 32/32 [05:13<00:00,  9.79s/it]\n"
          ]
        },
        {
          "name": "stdout",
          "output_type": "stream",
          "text": [
            "Epoch 54, Loss 7.472017288208008\n"
          ]
        },
        {
          "name": "stderr",
          "output_type": "stream",
          "text": [
            "100%|██████████| 32/32 [05:13<00:00,  9.79s/it]\n"
          ]
        },
        {
          "name": "stdout",
          "output_type": "stream",
          "text": [
            "Epoch 55, Loss 7.435245990753174\n"
          ]
        },
        {
          "name": "stderr",
          "output_type": "stream",
          "text": [
            "100%|██████████| 32/32 [05:13<00:00,  9.79s/it]\n"
          ]
        },
        {
          "name": "stdout",
          "output_type": "stream",
          "text": [
            "Epoch 56, Loss 7.428647518157959\n"
          ]
        },
        {
          "name": "stderr",
          "output_type": "stream",
          "text": [
            "100%|██████████| 32/32 [05:13<00:00,  9.78s/it]\n"
          ]
        },
        {
          "name": "stdout",
          "output_type": "stream",
          "text": [
            "Epoch 57, Loss 7.426110744476318\n"
          ]
        },
        {
          "name": "stderr",
          "output_type": "stream",
          "text": [
            "100%|██████████| 32/32 [05:11<00:00,  9.75s/it]\n"
          ]
        },
        {
          "name": "stdout",
          "output_type": "stream",
          "text": [
            "Epoch 58, Loss 7.430735111236572\n"
          ]
        },
        {
          "name": "stderr",
          "output_type": "stream",
          "text": [
            "100%|██████████| 32/32 [05:13<00:00,  9.78s/it]\n"
          ]
        },
        {
          "name": "stdout",
          "output_type": "stream",
          "text": [
            "Epoch 59, Loss 7.416789531707764\n"
          ]
        },
        {
          "name": "stderr",
          "output_type": "stream",
          "text": [
            "100%|██████████| 32/32 [05:12<00:00,  9.78s/it]\n"
          ]
        },
        {
          "name": "stdout",
          "output_type": "stream",
          "text": [
            "Epoch 60, Loss 7.421344757080078\n"
          ]
        },
        {
          "name": "stderr",
          "output_type": "stream",
          "text": [
            "100%|██████████| 32/32 [05:12<00:00,  9.78s/it]\n"
          ]
        },
        {
          "name": "stdout",
          "output_type": "stream",
          "text": [
            "Epoch 61, Loss 7.412694931030273\n"
          ]
        },
        {
          "name": "stderr",
          "output_type": "stream",
          "text": [
            "100%|██████████| 32/32 [05:11<00:00,  9.74s/it]\n"
          ]
        },
        {
          "name": "stdout",
          "output_type": "stream",
          "text": [
            "Epoch 62, Loss 7.415487289428711\n"
          ]
        },
        {
          "name": "stderr",
          "output_type": "stream",
          "text": [
            "100%|██████████| 32/32 [05:13<00:00,  9.79s/it]\n"
          ]
        },
        {
          "name": "stdout",
          "output_type": "stream",
          "text": [
            "Epoch 63, Loss 7.428577899932861\n"
          ]
        },
        {
          "name": "stderr",
          "output_type": "stream",
          "text": [
            "100%|██████████| 32/32 [05:13<00:00,  9.79s/it]\n"
          ]
        },
        {
          "name": "stdout",
          "output_type": "stream",
          "text": [
            "Epoch 64, Loss 7.411644458770752\n"
          ]
        },
        {
          "name": "stderr",
          "output_type": "stream",
          "text": [
            "100%|██████████| 32/32 [05:14<00:00,  9.82s/it]\n"
          ]
        },
        {
          "name": "stdout",
          "output_type": "stream",
          "text": [
            "Epoch 65, Loss 7.407945156097412\n"
          ]
        },
        {
          "name": "stderr",
          "output_type": "stream",
          "text": [
            "100%|██████████| 32/32 [05:13<00:00,  9.78s/it]\n"
          ]
        },
        {
          "name": "stdout",
          "output_type": "stream",
          "text": [
            "Epoch 66, Loss 7.402631759643555\n"
          ]
        },
        {
          "name": "stderr",
          "output_type": "stream",
          "text": [
            "100%|██████████| 32/32 [05:12<00:00,  9.76s/it]\n"
          ]
        },
        {
          "name": "stdout",
          "output_type": "stream",
          "text": [
            "Epoch 67, Loss 7.409276485443115\n"
          ]
        },
        {
          "name": "stderr",
          "output_type": "stream",
          "text": [
            "100%|██████████| 32/32 [05:13<00:00,  9.80s/it]\n"
          ]
        },
        {
          "name": "stdout",
          "output_type": "stream",
          "text": [
            "Epoch 68, Loss 7.406470775604248\n"
          ]
        },
        {
          "name": "stderr",
          "output_type": "stream",
          "text": [
            "100%|██████████| 32/32 [05:10<00:00,  9.71s/it]"
          ]
        },
        {
          "name": "stdout",
          "output_type": "stream",
          "text": [
            "Epoch 69, Loss 7.4189019203186035\n"
          ]
        },
        {
          "name": "stderr",
          "output_type": "stream",
          "text": [
            "\n"
          ]
        }
      ],
      "source": [
        "import pickle\n",
        "import os\n",
        "\n",
        "torch.autograd.set_detect_anomaly(True)\n",
        "\n",
        "trainer = Trainer(args=args, model=model, optimizer=optimizer, scheduler=lr_scheduler)\n",
        "model, losses = trainer.train(dataloader)\n",
        "\n",
        "# Save the losses list to a file\n",
        "with open('./HW3_Representation/simclr_models/losses.pkl', 'wb') as f:\n",
        "    pickle.dump(losses, f)"
      ]
    },
    {
      "cell_type": "markdown",
      "metadata": {
        "id": "R0WWUzP5emQj"
      },
      "source": [
        "# Étape 3 : Évaluation de la tâche en aval : Former un nouveau décodeur MLP basé sur le codeur formé.\n",
        "\n",
        "Ce processus de fine-tuning devrait être bien plus rapide que le précédent. L'exactitude Top-1 attendue devrait être d'environ 57% et l'exactitude Top-5 devrait être autour de 97%. Obtenir ces résultats est normal car la sonde linéaire est juste une couche de projection généralement reconnue comme n'ayant pas de capacité de représentation. Pour atteindre la performance mentionnée dans l'article, nous avons besoin d'un plus grand dataset, de GPU plus puissants et de plus de temps (environ 1000 époques durant la phase de pré-entraînement)."
      ]
    },
    {
      "cell_type": "code",
      "execution_count": 7,
      "metadata": {
        "id": "8R2HGu-UemQj"
      },
      "outputs": [
        {
          "name": "stdout",
          "output_type": "stream",
          "text": [
            "Downloading http://ai.stanford.edu/~acoates/stl10/stl10_binary.tar.gz to ./data/stl10_binary.tar.gz\n"
          ]
        },
        {
          "name": "stderr",
          "output_type": "stream",
          "text": [
            "100%|██████████| 2640397119/2640397119 [01:49<00:00, 24105813.32it/s]\n"
          ]
        },
        {
          "name": "stdout",
          "output_type": "stream",
          "text": [
            "Extracting ./data/stl10_binary.tar.gz to ./data\n",
            "Files already downloaded and verified\n"
          ]
        },
        {
          "name": "stderr",
          "output_type": "stream",
          "text": [
            " 50%|█████     | 1/2 [00:01<00:01,  1.46s/it]"
          ]
        },
        {
          "name": "stdout",
          "output_type": "stream",
          "text": [
            "Epoch: 0, Loss: 2.550807237625122 Top1 Train Accuracy:  4.8177080154418945 Top5 Train Accuracy:  24.348957061767578\n"
          ]
        },
        {
          "name": "stderr",
          "output_type": "stream",
          "text": [
            "100%|██████████| 2/2 [00:01<00:00,  1.06it/s]\n"
          ]
        },
        {
          "name": "stdout",
          "output_type": "stream",
          "text": [
            "Epoch: 0, Loss: 2.469886541366577 Top1 Train Accuracy:  10.237833023071289 Top5 Train Accuracy:  50.98277282714844\n"
          ]
        },
        {
          "name": "stderr",
          "output_type": "stream",
          "text": [
            " 50%|█████     | 1/2 [00:01<00:01,  1.35s/it]"
          ]
        },
        {
          "name": "stdout",
          "output_type": "stream",
          "text": [
            "Epoch: 1, Loss: 2.4146692752838135 Top1 Train Accuracy:  4.833984375 Top5 Train Accuracy:  27.40885353088379\n"
          ]
        },
        {
          "name": "stderr",
          "output_type": "stream",
          "text": [
            "100%|██████████| 2/2 [00:01<00:00,  1.07it/s]\n"
          ]
        },
        {
          "name": "stdout",
          "output_type": "stream",
          "text": [
            "Epoch: 1, Loss: 2.347717046737671 Top1 Train Accuracy:  10.643113136291504 Top5 Train Accuracy:  56.76570129394531\n"
          ]
        },
        {
          "name": "stderr",
          "output_type": "stream",
          "text": [
            " 50%|█████     | 1/2 [00:01<00:01,  1.35s/it]"
          ]
        },
        {
          "name": "stdout",
          "output_type": "stream",
          "text": [
            "Epoch: 2, Loss: 2.300394296646118 Top1 Train Accuracy:  5.8430986404418945 Top5 Train Accuracy:  30.19205665588379\n"
          ]
        },
        {
          "name": "stderr",
          "output_type": "stream",
          "text": [
            "100%|██████████| 2/2 [00:01<00:00,  1.08it/s]\n"
          ]
        },
        {
          "name": "stdout",
          "output_type": "stream",
          "text": [
            "Epoch: 2, Loss: 2.2435989379882812 Top1 Train Accuracy:  13.234177589416504 Top5 Train Accuracy:  62.16819763183594\n"
          ]
        },
        {
          "name": "stderr",
          "output_type": "stream",
          "text": [
            " 50%|█████     | 1/2 [00:01<00:01,  1.36s/it]"
          ]
        },
        {
          "name": "stdout",
          "output_type": "stream",
          "text": [
            "Epoch: 3, Loss: 2.201913833618164 Top1 Train Accuracy:  8.040364265441895 Top5 Train Accuracy:  33.3984375\n"
          ]
        },
        {
          "name": "stderr",
          "output_type": "stream",
          "text": [
            "100%|██████████| 2/2 [00:01<00:00,  1.06it/s]\n"
          ]
        },
        {
          "name": "stdout",
          "output_type": "stream",
          "text": [
            "Epoch: 3, Loss: 2.1524641513824463 Top1 Train Accuracy:  17.42833137512207 Top5 Train Accuracy:  68.7459487915039\n"
          ]
        },
        {
          "name": "stderr",
          "output_type": "stream",
          "text": [
            " 50%|█████     | 1/2 [00:01<00:01,  1.35s/it]"
          ]
        },
        {
          "name": "stdout",
          "output_type": "stream",
          "text": [
            "Epoch: 4, Loss: 2.1150145530700684 Top1 Train Accuracy:  10.107421875 Top5 Train Accuracy:  37.3046875\n"
          ]
        },
        {
          "name": "stderr",
          "output_type": "stream",
          "text": [
            "100%|██████████| 2/2 [00:01<00:00,  1.08it/s]\n"
          ]
        },
        {
          "name": "stdout",
          "output_type": "stream",
          "text": [
            "Epoch: 4, Loss: 2.0710251331329346 Top1 Train Accuracy:  21.596012115478516 Top5 Train Accuracy:  77.03497314453125\n"
          ]
        },
        {
          "name": "stderr",
          "output_type": "stream",
          "text": [
            " 50%|█████     | 1/2 [00:01<00:01,  1.34s/it]"
          ]
        },
        {
          "name": "stdout",
          "output_type": "stream",
          "text": [
            "Epoch: 5, Loss: 2.037184953689575 Top1 Train Accuracy:  12.060546875 Top5 Train Accuracy:  41.276039123535156\n"
          ]
        },
        {
          "name": "stderr",
          "output_type": "stream",
          "text": [
            "100%|██████████| 2/2 [00:01<00:00,  1.08it/s]\n"
          ]
        },
        {
          "name": "stdout",
          "output_type": "stream",
          "text": [
            "Epoch: 5, Loss: 1.9974421262741089 Top1 Train Accuracy:  25.131086349487305 Top5 Train Accuracy:  84.5333023071289\n"
          ]
        },
        {
          "name": "stderr",
          "output_type": "stream",
          "text": [
            " 50%|█████     | 1/2 [00:01<00:01,  1.35s/it]"
          ]
        },
        {
          "name": "stdout",
          "output_type": "stream",
          "text": [
            "Epoch: 6, Loss: 1.9669779539108276 Top1 Train Accuracy:  13.948567390441895 Top5 Train Accuracy:  43.717445373535156\n"
          ]
        },
        {
          "name": "stderr",
          "output_type": "stream",
          "text": [
            "100%|██████████| 2/2 [00:01<00:00,  1.08it/s]\n"
          ]
        },
        {
          "name": "stdout",
          "output_type": "stream",
          "text": [
            "Epoch: 6, Loss: 1.930615782737732 Top1 Train Accuracy:  29.015995025634766 Top5 Train Accuracy:  88.76412963867188\n"
          ]
        },
        {
          "name": "stderr",
          "output_type": "stream",
          "text": [
            " 50%|█████     | 1/2 [00:01<00:01,  1.36s/it]"
          ]
        },
        {
          "name": "stdout",
          "output_type": "stream",
          "text": [
            "Epoch: 7, Loss: 1.9034074544906616 Top1 Train Accuracy:  15.804036140441895 Top5 Train Accuracy:  45.084632873535156\n"
          ]
        },
        {
          "name": "stderr",
          "output_type": "stream",
          "text": [
            "100%|██████████| 2/2 [00:01<00:00,  1.07it/s]\n"
          ]
        },
        {
          "name": "stdout",
          "output_type": "stream",
          "text": [
            "Epoch: 7, Loss: 1.8697274923324585 Top1 Train Accuracy:  32.53121566772461 Top5 Train Accuracy:  91.09085845947266\n"
          ]
        },
        {
          "name": "stderr",
          "output_type": "stream",
          "text": [
            " 50%|█████     | 1/2 [00:01<00:01,  1.35s/it]"
          ]
        },
        {
          "name": "stdout",
          "output_type": "stream",
          "text": [
            "Epoch: 8, Loss: 1.8456621170043945 Top1 Train Accuracy:  17.64322853088379 Top5 Train Accuracy:  46.044921875\n"
          ]
        },
        {
          "name": "stderr",
          "output_type": "stream",
          "text": [
            "100%|██████████| 2/2 [00:01<00:00,  1.08it/s]\n"
          ]
        },
        {
          "name": "stdout",
          "output_type": "stream",
          "text": [
            "Epoch: 8, Loss: 1.814080834388733 Top1 Train Accuracy:  35.5114860534668 Top5 Train Accuracy:  92.54388427734375\n"
          ]
        },
        {
          "name": "stderr",
          "output_type": "stream",
          "text": [
            " 50%|█████     | 1/2 [00:01<00:01,  1.36s/it]"
          ]
        },
        {
          "name": "stdout",
          "output_type": "stream",
          "text": [
            "Epoch: 9, Loss: 1.793057918548584 Top1 Train Accuracy:  18.782550811767578 Top5 Train Accuracy:  46.337890625\n"
          ]
        },
        {
          "name": "stderr",
          "output_type": "stream",
          "text": [
            "100%|██████████| 2/2 [00:01<00:00,  1.07it/s]\n"
          ]
        },
        {
          "name": "stdout",
          "output_type": "stream",
          "text": [
            "Epoch: 9, Loss: 1.7631129026412964 Top1 Train Accuracy:  38.10308837890625 Top5 Train Accuracy:  93.09619140625\n"
          ]
        },
        {
          "name": "stderr",
          "output_type": "stream",
          "text": [
            " 50%|█████     | 1/2 [00:01<00:01,  1.35s/it]"
          ]
        },
        {
          "name": "stdout",
          "output_type": "stream",
          "text": [
            "Epoch: 10, Loss: 1.7450752258300781 Top1 Train Accuracy:  20.08463478088379 Top5 Train Accuracy:  46.51692581176758\n"
          ]
        },
        {
          "name": "stderr",
          "output_type": "stream",
          "text": [
            "100%|██████████| 2/2 [00:01<00:00,  1.08it/s]\n"
          ]
        },
        {
          "name": "stdout",
          "output_type": "stream",
          "text": [
            "Epoch: 10, Loss: 1.7164286375045776 Top1 Train Accuracy:  40.67591857910156 Top5 Train Accuracy:  93.63829040527344\n"
          ]
        },
        {
          "name": "stderr",
          "output_type": "stream",
          "text": [
            " 50%|█████     | 1/2 [00:01<00:01,  1.35s/it]"
          ]
        },
        {
          "name": "stdout",
          "output_type": "stream",
          "text": [
            "Epoch: 11, Loss: 1.7013591527938843 Top1 Train Accuracy:  21.20768165588379 Top5 Train Accuracy:  46.71223831176758\n"
          ]
        },
        {
          "name": "stderr",
          "output_type": "stream",
          "text": [
            "100%|██████████| 2/2 [00:01<00:00,  1.08it/s]\n"
          ]
        },
        {
          "name": "stdout",
          "output_type": "stream",
          "text": [
            "Epoch: 11, Loss: 1.673775315284729 Top1 Train Accuracy:  42.91411590576172 Top5 Train Accuracy:  93.98921203613281\n"
          ]
        },
        {
          "name": "stderr",
          "output_type": "stream",
          "text": [
            " 50%|█████     | 1/2 [00:01<00:01,  1.35s/it]"
          ]
        },
        {
          "name": "stdout",
          "output_type": "stream",
          "text": [
            "Epoch: 12, Loss: 1.661659598350525 Top1 Train Accuracy:  22.23307228088379 Top5 Train Accuracy:  46.842445373535156\n"
          ]
        },
        {
          "name": "stderr",
          "output_type": "stream",
          "text": [
            "100%|██████████| 2/2 [00:01<00:00,  1.07it/s]\n"
          ]
        },
        {
          "name": "stdout",
          "output_type": "stream",
          "text": [
            "Epoch: 12, Loss: 1.634963870048523 Top1 Train Accuracy:  44.795310974121094 Top5 Train Accuracy:  94.30094909667969\n"
          ]
        },
        {
          "name": "stderr",
          "output_type": "stream",
          "text": [
            " 50%|█████     | 1/2 [00:01<00:01,  1.34s/it]"
          ]
        },
        {
          "name": "stdout",
          "output_type": "stream",
          "text": [
            "Epoch: 13, Loss: 1.6257354021072388 Top1 Train Accuracy:  22.86783790588379 Top5 Train Accuracy:  47.021484375\n"
          ]
        },
        {
          "name": "stderr",
          "output_type": "stream",
          "text": [
            "100%|██████████| 2/2 [00:01<00:00,  1.08it/s]\n"
          ]
        },
        {
          "name": "stdout",
          "output_type": "stream",
          "text": [
            "Epoch: 13, Loss: 1.5997825860977173 Top1 Train Accuracy:  46.156219482421875 Top5 Train Accuracy:  94.58372497558594\n"
          ]
        },
        {
          "name": "stderr",
          "output_type": "stream",
          "text": [
            " 50%|█████     | 1/2 [00:01<00:01,  1.34s/it]"
          ]
        },
        {
          "name": "stdout",
          "output_type": "stream",
          "text": [
            "Epoch: 14, Loss: 1.593293309211731 Top1 Train Accuracy:  23.470050811767578 Top5 Train Accuracy:  47.184242248535156\n"
          ]
        },
        {
          "name": "stderr",
          "output_type": "stream",
          "text": [
            "100%|██████████| 2/2 [00:01<00:00,  1.08it/s]\n"
          ]
        },
        {
          "name": "stdout",
          "output_type": "stream",
          "text": [
            "Epoch: 14, Loss: 1.5679553747177124 Top1 Train Accuracy:  47.199302673339844 Top5 Train Accuracy:  94.95394897460938\n"
          ]
        },
        {
          "name": "stderr",
          "output_type": "stream",
          "text": [
            " 50%|█████     | 1/2 [00:01<00:01,  1.35s/it]"
          ]
        },
        {
          "name": "stdout",
          "output_type": "stream",
          "text": [
            "Epoch: 15, Loss: 1.5639766454696655 Top1 Train Accuracy:  23.89322853088379 Top5 Train Accuracy:  47.314453125\n"
          ]
        },
        {
          "name": "stderr",
          "output_type": "stream",
          "text": [
            "100%|██████████| 2/2 [00:01<00:00,  1.08it/s]\n"
          ]
        },
        {
          "name": "stdout",
          "output_type": "stream",
          "text": [
            "Epoch: 15, Loss: 1.5391494035720825 Top1 Train Accuracy:  48.03742218017578 Top5 Train Accuracy:  95.13603210449219\n"
          ]
        },
        {
          "name": "stderr",
          "output_type": "stream",
          "text": [
            " 50%|█████     | 1/2 [00:01<00:01,  1.35s/it]"
          ]
        },
        {
          "name": "stdout",
          "output_type": "stream",
          "text": [
            "Epoch: 16, Loss: 1.537401795387268 Top1 Train Accuracy:  24.462890625 Top5 Train Accuracy:  47.39583206176758\n"
          ]
        },
        {
          "name": "stderr",
          "output_type": "stream",
          "text": [
            "100%|██████████| 2/2 [00:01<00:00,  1.08it/s]\n"
          ]
        },
        {
          "name": "stdout",
          "output_type": "stream",
          "text": [
            "Epoch: 16, Loss: 1.5130141973495483 Top1 Train Accuracy:  48.99608612060547 Top5 Train Accuracy:  95.19147491455078\n"
          ]
        },
        {
          "name": "stderr",
          "output_type": "stream",
          "text": [
            " 50%|█████     | 1/2 [00:01<00:01,  1.34s/it]"
          ]
        },
        {
          "name": "stdout",
          "output_type": "stream",
          "text": [
            "Epoch: 17, Loss: 1.513208270072937 Top1 Train Accuracy:  25.0 Top5 Train Accuracy:  47.4609375\n"
          ]
        },
        {
          "name": "stderr",
          "output_type": "stream",
          "text": [
            "100%|██████████| 2/2 [00:01<00:00,  1.07it/s]\n"
          ]
        },
        {
          "name": "stdout",
          "output_type": "stream",
          "text": [
            "Epoch: 17, Loss: 1.4892195463180542 Top1 Train Accuracy:  49.81846618652344 Top5 Train Accuracy:  95.3084487915039\n"
          ]
        },
        {
          "name": "stderr",
          "output_type": "stream",
          "text": [
            " 50%|█████     | 1/2 [00:01<00:01,  1.34s/it]"
          ]
        },
        {
          "name": "stdout",
          "output_type": "stream",
          "text": [
            "Epoch: 18, Loss: 1.491090178489685 Top1 Train Accuracy:  25.146482467651367 Top5 Train Accuracy:  47.509765625\n"
          ]
        },
        {
          "name": "stderr",
          "output_type": "stream",
          "text": [
            "100%|██████████| 2/2 [00:01<00:00,  1.08it/s]\n"
          ]
        },
        {
          "name": "stdout",
          "output_type": "stream",
          "text": [
            "Epoch: 18, Loss: 1.467480182647705 Top1 Train Accuracy:  50.405818939208984 Top5 Train Accuracy:  95.46101379394531\n"
          ]
        },
        {
          "name": "stderr",
          "output_type": "stream",
          "text": [
            " 50%|█████     | 1/2 [00:01<00:01,  1.35s/it]"
          ]
        },
        {
          "name": "stdout",
          "output_type": "stream",
          "text": [
            "Epoch: 19, Loss: 1.4708133935928345 Top1 Train Accuracy:  25.585935592651367 Top5 Train Accuracy:  47.55859375\n"
          ]
        },
        {
          "name": "stderr",
          "output_type": "stream",
          "text": [
            "100%|██████████| 2/2 [00:01<00:00,  1.07it/s]\n"
          ]
        },
        {
          "name": "stdout",
          "output_type": "stream",
          "text": [
            "Epoch: 19, Loss: 1.4475610256195068 Top1 Train Accuracy:  50.974937438964844 Top5 Train Accuracy:  95.53577423095703\n"
          ]
        },
        {
          "name": "stderr",
          "output_type": "stream",
          "text": [
            " 50%|█████     | 1/2 [00:01<00:01,  1.35s/it]"
          ]
        },
        {
          "name": "stdout",
          "output_type": "stream",
          "text": [
            "Epoch: 20, Loss: 1.4522024393081665 Top1 Train Accuracy:  25.716144561767578 Top5 Train Accuracy:  47.63997268676758\n"
          ]
        },
        {
          "name": "stderr",
          "output_type": "stream",
          "text": [
            "100%|██████████| 2/2 [00:01<00:00,  1.08it/s]\n"
          ]
        },
        {
          "name": "stdout",
          "output_type": "stream",
          "text": [
            "Epoch: 20, Loss: 1.4292696714401245 Top1 Train Accuracy:  51.390419006347656 Top5 Train Accuracy:  95.72088623046875\n"
          ]
        },
        {
          "name": "stderr",
          "output_type": "stream",
          "text": [
            " 50%|█████     | 1/2 [00:01<00:01,  1.35s/it]"
          ]
        },
        {
          "name": "stdout",
          "output_type": "stream",
          "text": [
            "Epoch: 21, Loss: 1.4351197481155396 Top1 Train Accuracy:  25.976560592651367 Top5 Train Accuracy:  47.721351623535156\n"
          ]
        },
        {
          "name": "stderr",
          "output_type": "stream",
          "text": [
            "100%|██████████| 2/2 [00:01<00:00,  1.08it/s]\n"
          ]
        },
        {
          "name": "stdout",
          "output_type": "stream",
          "text": [
            "Epoch: 21, Loss: 1.4124391078948975 Top1 Train Accuracy:  52.065773010253906 Top5 Train Accuracy:  95.77633666992188\n"
          ]
        },
        {
          "name": "stderr",
          "output_type": "stream",
          "text": [
            " 50%|█████     | 1/2 [00:01<00:01,  1.34s/it]"
          ]
        },
        {
          "name": "stdout",
          "output_type": "stream",
          "text": [
            "Epoch: 22, Loss: 1.4194408655166626 Top1 Train Accuracy:  26.13932228088379 Top5 Train Accuracy:  47.8515625\n"
          ]
        },
        {
          "name": "stderr",
          "output_type": "stream",
          "text": [
            "100%|██████████| 2/2 [00:01<00:00,  1.08it/s]\n"
          ]
        },
        {
          "name": "stdout",
          "output_type": "stream",
          "text": [
            "Epoch: 22, Loss: 1.3969190120697021 Top1 Train Accuracy:  52.410072326660156 Top5 Train Accuracy:  95.95840454101562\n"
          ]
        },
        {
          "name": "stderr",
          "output_type": "stream",
          "text": [
            " 50%|█████     | 1/2 [00:01<00:01,  1.36s/it]"
          ]
        },
        {
          "name": "stdout",
          "output_type": "stream",
          "text": [
            "Epoch: 23, Loss: 1.4050401449203491 Top1 Train Accuracy:  26.350910186767578 Top5 Train Accuracy:  47.88411331176758\n"
          ]
        },
        {
          "name": "stderr",
          "output_type": "stream",
          "text": [
            "100%|██████████| 2/2 [00:01<00:00,  1.08it/s]\n"
          ]
        },
        {
          "name": "stdout",
          "output_type": "stream",
          "text": [
            "Epoch: 23, Loss: 1.3825654983520508 Top1 Train Accuracy:  52.72539138793945 Top5 Train Accuracy:  96.01689147949219\n"
          ]
        },
        {
          "name": "stderr",
          "output_type": "stream",
          "text": [
            " 50%|█████     | 1/2 [00:01<00:01,  1.34s/it]"
          ]
        },
        {
          "name": "stdout",
          "output_type": "stream",
          "text": [
            "Epoch: 24, Loss: 1.3917838335037231 Top1 Train Accuracy:  26.43229103088379 Top5 Train Accuracy:  47.900390625\n"
          ]
        },
        {
          "name": "stderr",
          "output_type": "stream",
          "text": [
            "100%|██████████| 2/2 [00:01<00:00,  1.08it/s]\n"
          ]
        },
        {
          "name": "stdout",
          "output_type": "stream",
          "text": [
            "Epoch: 24, Loss: 1.3692476749420166 Top1 Train Accuracy:  53.04017639160156 Top5 Train Accuracy:  96.08503723144531\n"
          ]
        },
        {
          "name": "stderr",
          "output_type": "stream",
          "text": [
            " 50%|█████     | 1/2 [00:01<00:01,  1.34s/it]"
          ]
        },
        {
          "name": "stdout",
          "output_type": "stream",
          "text": [
            "Epoch: 25, Loss: 1.3795396089553833 Top1 Train Accuracy:  26.52994728088379 Top5 Train Accuracy:  47.93294143676758\n"
          ]
        },
        {
          "name": "stderr",
          "output_type": "stream",
          "text": [
            "100%|██████████| 2/2 [00:01<00:00,  1.11it/s]\n"
          ]
        },
        {
          "name": "stdout",
          "output_type": "stream",
          "text": [
            "Epoch: 25, Loss: 1.3568494319915771 Top1 Train Accuracy:  53.39716720581055 Top5 Train Accuracy:  96.14352416992188\n"
          ]
        },
        {
          "name": "stderr",
          "output_type": "stream",
          "text": [
            " 50%|█████     | 1/2 [00:01<00:01,  1.35s/it]"
          ]
        },
        {
          "name": "stdout",
          "output_type": "stream",
          "text": [
            "Epoch: 26, Loss: 1.3681830167770386 Top1 Train Accuracy:  26.643878936767578 Top5 Train Accuracy:  47.965492248535156\n"
          ]
        },
        {
          "name": "stderr",
          "output_type": "stream",
          "text": [
            "100%|██████████| 2/2 [00:01<00:00,  1.07it/s]\n"
          ]
        },
        {
          "name": "stdout",
          "output_type": "stream",
          "text": [
            "Epoch: 26, Loss: 1.345273733139038 Top1 Train Accuracy:  53.588897705078125 Top5 Train Accuracy:  96.30574035644531\n"
          ]
        },
        {
          "name": "stderr",
          "output_type": "stream",
          "text": [
            " 50%|█████     | 1/2 [00:01<00:01,  1.35s/it]"
          ]
        },
        {
          "name": "stdout",
          "output_type": "stream",
          "text": [
            "Epoch: 27, Loss: 1.3576054573059082 Top1 Train Accuracy:  26.72525978088379 Top5 Train Accuracy:  47.998046875\n"
          ]
        },
        {
          "name": "stderr",
          "output_type": "stream",
          "text": [
            "100%|██████████| 2/2 [00:01<00:00,  1.08it/s]\n"
          ]
        },
        {
          "name": "stdout",
          "output_type": "stream",
          "text": [
            "Epoch: 27, Loss: 1.3344413042068481 Top1 Train Accuracy:  53.799949645996094 Top5 Train Accuracy:  96.28643035888672\n"
          ]
        },
        {
          "name": "stderr",
          "output_type": "stream",
          "text": [
            " 50%|█████     | 1/2 [00:01<00:01,  1.35s/it]"
          ]
        },
        {
          "name": "stdout",
          "output_type": "stream",
          "text": [
            "Epoch: 28, Loss: 1.3477188348770142 Top1 Train Accuracy:  26.741535186767578 Top5 Train Accuracy:  47.998046875\n"
          ]
        },
        {
          "name": "stderr",
          "output_type": "stream",
          "text": [
            "100%|██████████| 2/2 [00:01<00:00,  1.08it/s]\n"
          ]
        },
        {
          "name": "stdout",
          "output_type": "stream",
          "text": [
            "Epoch: 28, Loss: 1.324286699295044 Top1 Train Accuracy:  53.99775695800781 Top5 Train Accuracy:  96.28643035888672\n"
          ]
        },
        {
          "name": "stderr",
          "output_type": "stream",
          "text": [
            " 50%|█████     | 1/2 [00:01<00:01,  1.35s/it]"
          ]
        },
        {
          "name": "stdout",
          "output_type": "stream",
          "text": [
            "Epoch: 29, Loss: 1.3384536504745483 Top1 Train Accuracy:  26.790363311767578 Top5 Train Accuracy:  47.998046875\n"
          ]
        },
        {
          "name": "stderr",
          "output_type": "stream",
          "text": [
            "100%|██████████| 2/2 [00:01<00:00,  1.08it/s]\n"
          ]
        },
        {
          "name": "stdout",
          "output_type": "stream",
          "text": [
            "Epoch: 29, Loss: 1.3147534132003784 Top1 Train Accuracy:  54.1243896484375 Top5 Train Accuracy:  96.260498046875\n"
          ]
        },
        {
          "name": "stderr",
          "output_type": "stream",
          "text": [
            " 50%|█████     | 1/2 [00:01<00:01,  1.35s/it]"
          ]
        },
        {
          "name": "stdout",
          "output_type": "stream",
          "text": [
            "Epoch: 30, Loss: 1.3297526836395264 Top1 Train Accuracy:  26.87174415588379 Top5 Train Accuracy:  48.014320373535156\n"
          ]
        },
        {
          "name": "stderr",
          "output_type": "stream",
          "text": [
            "100%|██████████| 2/2 [00:01<00:00,  1.08it/s]\n"
          ]
        },
        {
          "name": "stdout",
          "output_type": "stream",
          "text": [
            "Epoch: 30, Loss: 1.3057880401611328 Top1 Train Accuracy:  54.2835693359375 Top5 Train Accuracy:  96.40643310546875\n"
          ]
        },
        {
          "name": "stderr",
          "output_type": "stream",
          "text": [
            " 50%|█████     | 1/2 [00:01<00:01,  1.36s/it]"
          ]
        },
        {
          "name": "stdout",
          "output_type": "stream",
          "text": [
            "Epoch: 31, Loss: 1.3215676546096802 Top1 Train Accuracy:  26.936847686767578 Top5 Train Accuracy:  48.014320373535156\n"
          ]
        },
        {
          "name": "stderr",
          "output_type": "stream",
          "text": [
            "100%|██████████| 2/2 [00:01<00:00,  1.07it/s]\n"
          ]
        },
        {
          "name": "stdout",
          "output_type": "stream",
          "text": [
            "Epoch: 31, Loss: 1.2973394393920898 Top1 Train Accuracy:  54.530208587646484 Top5 Train Accuracy:  96.45830535888672\n"
          ]
        },
        {
          "name": "stderr",
          "output_type": "stream",
          "text": [
            " 50%|█████     | 1/2 [00:01<00:01,  1.35s/it]"
          ]
        },
        {
          "name": "stdout",
          "output_type": "stream",
          "text": [
            "Epoch: 32, Loss: 1.3138521909713745 Top1 Train Accuracy:  27.01822853088379 Top5 Train Accuracy:  48.111976623535156\n"
          ]
        },
        {
          "name": "stderr",
          "output_type": "stream",
          "text": [
            "100%|██████████| 2/2 [00:01<00:00,  1.08it/s]\n"
          ]
        },
        {
          "name": "stdout",
          "output_type": "stream",
          "text": [
            "Epoch: 32, Loss: 1.2893580198287964 Top1 Train Accuracy:  54.559722900390625 Top5 Train Accuracy:  96.55596160888672\n"
          ]
        },
        {
          "name": "stderr",
          "output_type": "stream",
          "text": [
            " 50%|█████     | 1/2 [00:01<00:01,  1.35s/it]"
          ]
        },
        {
          "name": "stdout",
          "output_type": "stream",
          "text": [
            "Epoch: 33, Loss: 1.3065623044967651 Top1 Train Accuracy:  27.034503936767578 Top5 Train Accuracy:  48.17708206176758\n"
          ]
        },
        {
          "name": "stderr",
          "output_type": "stream",
          "text": [
            "100%|██████████| 2/2 [00:01<00:00,  1.08it/s]\n"
          ]
        },
        {
          "name": "stdout",
          "output_type": "stream",
          "text": [
            "Epoch: 33, Loss: 1.2817999124526978 Top1 Train Accuracy:  54.57599639892578 Top5 Train Accuracy:  96.62106323242188\n"
          ]
        },
        {
          "name": "stderr",
          "output_type": "stream",
          "text": [
            " 50%|█████     | 1/2 [00:01<00:01,  1.35s/it]"
          ]
        },
        {
          "name": "stdout",
          "output_type": "stream",
          "text": [
            "Epoch: 34, Loss: 1.299656629562378 Top1 Train Accuracy:  27.197263717651367 Top5 Train Accuracy:  48.2421875\n"
          ]
        },
        {
          "name": "stderr",
          "output_type": "stream",
          "text": [
            "100%|██████████| 2/2 [00:01<00:00,  1.08it/s]\n"
          ]
        },
        {
          "name": "stdout",
          "output_type": "stream",
          "text": [
            "Epoch: 34, Loss: 1.274627923965454 Top1 Train Accuracy:  54.92029571533203 Top5 Train Accuracy:  96.71210479736328\n"
          ]
        },
        {
          "name": "stderr",
          "output_type": "stream",
          "text": [
            " 50%|█████     | 1/2 [00:01<00:01,  1.35s/it]"
          ]
        },
        {
          "name": "stdout",
          "output_type": "stream",
          "text": [
            "Epoch: 35, Loss: 1.293099045753479 Top1 Train Accuracy:  27.246091842651367 Top5 Train Accuracy:  48.258460998535156\n"
          ]
        },
        {
          "name": "stderr",
          "output_type": "stream",
          "text": [
            "100%|██████████| 2/2 [00:01<00:00,  1.08it/s]\n"
          ]
        },
        {
          "name": "stdout",
          "output_type": "stream",
          "text": [
            "Epoch: 35, Loss: 1.26781165599823 Top1 Train Accuracy:  55.072853088378906 Top5 Train Accuracy:  96.78024291992188\n"
          ]
        },
        {
          "name": "stderr",
          "output_type": "stream",
          "text": [
            " 50%|█████     | 1/2 [00:01<00:01,  1.35s/it]"
          ]
        },
        {
          "name": "stdout",
          "output_type": "stream",
          "text": [
            "Epoch: 36, Loss: 1.2868584394454956 Top1 Train Accuracy:  27.26236915588379 Top5 Train Accuracy:  48.27473831176758\n"
          ]
        },
        {
          "name": "stderr",
          "output_type": "stream",
          "text": [
            "100%|██████████| 2/2 [00:01<00:00,  1.08it/s]\n"
          ]
        },
        {
          "name": "stdout",
          "output_type": "stream",
          "text": [
            "Epoch: 36, Loss: 1.2613264322280884 Top1 Train Accuracy:  55.14099884033203 Top5 Train Accuracy:  96.79652404785156\n"
          ]
        },
        {
          "name": "stderr",
          "output_type": "stream",
          "text": [
            " 50%|█████     | 1/2 [00:01<00:01,  1.36s/it]"
          ]
        },
        {
          "name": "stdout",
          "output_type": "stream",
          "text": [
            "Epoch: 37, Loss: 1.2809083461761475 Top1 Train Accuracy:  27.376300811767578 Top5 Train Accuracy:  48.291015625\n"
          ]
        },
        {
          "name": "stderr",
          "output_type": "stream",
          "text": [
            "100%|██████████| 2/2 [00:01<00:00,  1.07it/s]\n"
          ]
        },
        {
          "name": "stdout",
          "output_type": "stream",
          "text": [
            "Epoch: 37, Loss: 1.255150556564331 Top1 Train Accuracy:  55.22899627685547 Top5 Train Accuracy:  96.786865234375\n"
          ]
        },
        {
          "name": "stderr",
          "output_type": "stream",
          "text": [
            " 50%|█████     | 1/2 [00:01<00:01,  1.38s/it]"
          ]
        },
        {
          "name": "stdout",
          "output_type": "stream",
          "text": [
            "Epoch: 38, Loss: 1.2752259969711304 Top1 Train Accuracy:  27.50650978088379 Top5 Train Accuracy:  48.307289123535156\n"
          ]
        },
        {
          "name": "stderr",
          "output_type": "stream",
          "text": [
            "100%|██████████| 2/2 [00:01<00:00,  1.06it/s]\n"
          ]
        },
        {
          "name": "stdout",
          "output_type": "stream",
          "text": [
            "Epoch: 38, Loss: 1.2492609024047852 Top1 Train Accuracy:  55.46294403076172 Top5 Train Accuracy:  96.80313873291016\n"
          ]
        },
        {
          "name": "stderr",
          "output_type": "stream",
          "text": [
            " 50%|█████     | 1/2 [00:01<00:01,  1.36s/it]"
          ]
        },
        {
          "name": "stdout",
          "output_type": "stream",
          "text": [
            "Epoch: 39, Loss: 1.2697924375534058 Top1 Train Accuracy:  27.587888717651367 Top5 Train Accuracy:  48.307289123535156\n"
          ]
        },
        {
          "name": "stderr",
          "output_type": "stream",
          "text": [
            "100%|██████████| 2/2 [00:01<00:00,  1.07it/s]\n"
          ]
        },
        {
          "name": "stdout",
          "output_type": "stream",
          "text": [
            "Epoch: 39, Loss: 1.2436343431472778 Top1 Train Accuracy:  55.699920654296875 Top5 Train Accuracy:  96.80313873291016\n"
          ]
        },
        {
          "name": "stderr",
          "output_type": "stream",
          "text": [
            " 50%|█████     | 1/2 [00:01<00:01,  1.35s/it]"
          ]
        },
        {
          "name": "stdout",
          "output_type": "stream",
          "text": [
            "Epoch: 40, Loss: 1.2645909786224365 Top1 Train Accuracy:  27.669269561767578 Top5 Train Accuracy:  48.356117248535156\n"
          ]
        },
        {
          "name": "stderr",
          "output_type": "stream",
          "text": [
            "100%|██████████| 2/2 [00:01<00:00,  1.08it/s]\n"
          ]
        },
        {
          "name": "stdout",
          "output_type": "stream",
          "text": [
            "Epoch: 40, Loss: 1.23824942111969 Top1 Train Accuracy:  55.833168029785156 Top5 Train Accuracy:  96.85196685791016\n"
          ]
        },
        {
          "name": "stderr",
          "output_type": "stream",
          "text": [
            " 50%|█████     | 1/2 [00:01<00:01,  1.35s/it]"
          ]
        },
        {
          "name": "stdout",
          "output_type": "stream",
          "text": [
            "Epoch: 41, Loss: 1.2596063613891602 Top1 Train Accuracy:  27.75065040588379 Top5 Train Accuracy:  48.388671875\n"
          ]
        },
        {
          "name": "stderr",
          "output_type": "stream",
          "text": [
            "100%|██████████| 2/2 [00:01<00:00,  1.08it/s]\n"
          ]
        },
        {
          "name": "stdout",
          "output_type": "stream",
          "text": [
            "Epoch: 41, Loss: 1.23308527469635 Top1 Train Accuracy:  55.91455078125 Top5 Train Accuracy:  96.91046142578125\n"
          ]
        },
        {
          "name": "stderr",
          "output_type": "stream",
          "text": [
            " 50%|█████     | 1/2 [00:01<00:01,  1.35s/it]"
          ]
        },
        {
          "name": "stdout",
          "output_type": "stream",
          "text": [
            "Epoch: 42, Loss: 1.2548258304595947 Top1 Train Accuracy:  27.79947853088379 Top5 Train Accuracy:  48.404945373535156\n"
          ]
        },
        {
          "name": "stderr",
          "output_type": "stream",
          "text": [
            "100%|██████████| 2/2 [00:01<00:00,  1.08it/s]\n"
          ]
        },
        {
          "name": "stdout",
          "output_type": "stream",
          "text": [
            "Epoch: 42, Loss: 1.228123426437378 Top1 Train Accuracy:  56.0152473449707 Top5 Train Accuracy:  96.90079498291016\n"
          ]
        },
        {
          "name": "stderr",
          "output_type": "stream",
          "text": [
            " 50%|█████     | 1/2 [00:01<00:01,  1.38s/it]"
          ]
        },
        {
          "name": "stdout",
          "output_type": "stream",
          "text": [
            "Epoch: 43, Loss: 1.2502360343933105 Top1 Train Accuracy:  27.815753936767578 Top5 Train Accuracy:  48.404945373535156\n"
          ]
        },
        {
          "name": "stderr",
          "output_type": "stream",
          "text": [
            "100%|██████████| 2/2 [00:01<00:00,  1.06it/s]\n"
          ]
        },
        {
          "name": "stdout",
          "output_type": "stream",
          "text": [
            "Epoch: 43, Loss: 1.2233500480651855 Top1 Train Accuracy:  56.08338928222656 Top5 Train Accuracy:  96.90079498291016\n"
          ]
        },
        {
          "name": "stderr",
          "output_type": "stream",
          "text": [
            " 50%|█████     | 1/2 [00:01<00:01,  1.37s/it]"
          ]
        },
        {
          "name": "stdout",
          "output_type": "stream",
          "text": [
            "Epoch: 44, Loss: 1.2458239793777466 Top1 Train Accuracy:  27.89713478088379 Top5 Train Accuracy:  48.404945373535156\n"
          ]
        },
        {
          "name": "stderr",
          "output_type": "stream",
          "text": [
            "100%|██████████| 2/2 [00:01<00:00,  1.06it/s]\n"
          ]
        },
        {
          "name": "stdout",
          "output_type": "stream",
          "text": [
            "Epoch: 44, Loss: 1.2187520265579224 Top1 Train Accuracy:  56.26850509643555 Top5 Train Accuracy:  96.87486267089844\n"
          ]
        },
        {
          "name": "stderr",
          "output_type": "stream",
          "text": [
            " 50%|█████     | 1/2 [00:01<00:01,  1.35s/it]"
          ]
        },
        {
          "name": "stdout",
          "output_type": "stream",
          "text": [
            "Epoch: 45, Loss: 1.2415779829025269 Top1 Train Accuracy:  27.978513717651367 Top5 Train Accuracy:  48.404945373535156\n"
          ]
        },
        {
          "name": "stderr",
          "output_type": "stream",
          "text": [
            "100%|██████████| 2/2 [00:01<00:00,  1.08it/s]\n"
          ]
        },
        {
          "name": "stdout",
          "output_type": "stream",
          "text": [
            "Epoch: 45, Loss: 1.2143199443817139 Top1 Train Accuracy:  56.40174865722656 Top5 Train Accuracy:  96.92672729492188\n"
          ]
        },
        {
          "name": "stderr",
          "output_type": "stream",
          "text": [
            " 50%|█████     | 1/2 [00:01<00:01,  1.35s/it]"
          ]
        },
        {
          "name": "stdout",
          "output_type": "stream",
          "text": [
            "Epoch: 46, Loss: 1.2374857664108276 Top1 Train Accuracy:  28.027341842651367 Top5 Train Accuracy:  48.388671875\n"
          ]
        },
        {
          "name": "stderr",
          "output_type": "stream",
          "text": [
            "100%|██████████| 2/2 [00:01<00:00,  1.07it/s]\n"
          ]
        },
        {
          "name": "stdout",
          "output_type": "stream",
          "text": [
            "Epoch: 46, Loss: 1.210044503211975 Top1 Train Accuracy:  56.398712158203125 Top5 Train Accuracy:  96.91046142578125\n"
          ]
        },
        {
          "name": "stderr",
          "output_type": "stream",
          "text": [
            " 50%|█████     | 1/2 [00:01<00:01,  1.37s/it]"
          ]
        },
        {
          "name": "stdout",
          "output_type": "stream",
          "text": [
            "Epoch: 47, Loss: 1.233535885810852 Top1 Train Accuracy:  28.076169967651367 Top5 Train Accuracy:  48.404945373535156\n"
          ]
        },
        {
          "name": "stderr",
          "output_type": "stream",
          "text": [
            "100%|██████████| 2/2 [00:01<00:00,  1.07it/s]\n"
          ]
        },
        {
          "name": "stdout",
          "output_type": "stream",
          "text": [
            "Epoch: 47, Loss: 1.2059179544448853 Top1 Train Accuracy:  56.473472595214844 Top5 Train Accuracy:  96.92672729492188\n"
          ]
        },
        {
          "name": "stderr",
          "output_type": "stream",
          "text": [
            " 50%|█████     | 1/2 [00:01<00:01,  1.35s/it]"
          ]
        },
        {
          "name": "stdout",
          "output_type": "stream",
          "text": [
            "Epoch: 48, Loss: 1.2297195196151733 Top1 Train Accuracy:  28.108722686767578 Top5 Train Accuracy:  48.4375\n"
          ]
        },
        {
          "name": "stderr",
          "output_type": "stream",
          "text": [
            "100%|██████████| 2/2 [00:01<00:00,  1.08it/s]\n"
          ]
        },
        {
          "name": "stdout",
          "output_type": "stream",
          "text": [
            "Epoch: 48, Loss: 1.2019318342208862 Top1 Train Accuracy:  56.42822265625 Top5 Train Accuracy:  96.98521423339844\n"
          ]
        },
        {
          "name": "stderr",
          "output_type": "stream",
          "text": [
            " 50%|█████     | 1/2 [00:01<00:01,  1.35s/it]"
          ]
        },
        {
          "name": "stdout",
          "output_type": "stream",
          "text": [
            "Epoch: 49, Loss: 1.2260276079177856 Top1 Train Accuracy:  28.14127540588379 Top5 Train Accuracy:  48.453773498535156\n"
          ]
        },
        {
          "name": "stderr",
          "output_type": "stream",
          "text": [
            "100%|██████████| 2/2 [00:01<00:00,  1.08it/s]\n"
          ]
        },
        {
          "name": "stdout",
          "output_type": "stream",
          "text": [
            "Epoch: 49, Loss: 1.1980769634246826 Top1 Train Accuracy:  56.538578033447266 Top5 Train Accuracy:  97.00149536132812\n"
          ]
        },
        {
          "name": "stderr",
          "output_type": "stream",
          "text": [
            " 50%|█████     | 1/2 [00:01<00:01,  1.34s/it]"
          ]
        },
        {
          "name": "stdout",
          "output_type": "stream",
          "text": [
            "Epoch: 50, Loss: 1.2224534749984741 Top1 Train Accuracy:  28.255207061767578 Top5 Train Accuracy:  48.453773498535156\n"
          ]
        },
        {
          "name": "stderr",
          "output_type": "stream",
          "text": [
            "100%|██████████| 2/2 [00:01<00:00,  1.08it/s]\n"
          ]
        },
        {
          "name": "stdout",
          "output_type": "stream",
          "text": [
            "Epoch: 50, Loss: 1.1943457126617432 Top1 Train Accuracy:  56.78218078613281 Top5 Train Accuracy:  97.02742004394531\n"
          ]
        },
        {
          "name": "stderr",
          "output_type": "stream",
          "text": [
            " 50%|█████     | 1/2 [00:01<00:01,  1.35s/it]"
          ]
        },
        {
          "name": "stdout",
          "output_type": "stream",
          "text": [
            "Epoch: 51, Loss: 1.2189908027648926 Top1 Train Accuracy:  28.255207061767578 Top5 Train Accuracy:  48.486328125\n"
          ]
        },
        {
          "name": "stderr",
          "output_type": "stream",
          "text": [
            "100%|██████████| 2/2 [00:01<00:00,  1.08it/s]\n"
          ]
        },
        {
          "name": "stdout",
          "output_type": "stream",
          "text": [
            "Epoch: 51, Loss: 1.1907306909561157 Top1 Train Accuracy:  56.78218078613281 Top5 Train Accuracy:  97.03404235839844\n"
          ]
        },
        {
          "name": "stderr",
          "output_type": "stream",
          "text": [
            " 50%|█████     | 1/2 [00:01<00:01,  1.35s/it]"
          ]
        },
        {
          "name": "stdout",
          "output_type": "stream",
          "text": [
            "Epoch: 52, Loss: 1.2156339883804321 Top1 Train Accuracy:  28.28775978088379 Top5 Train Accuracy:  48.51887893676758\n"
          ]
        },
        {
          "name": "stderr",
          "output_type": "stream",
          "text": [
            "100%|██████████| 2/2 [00:01<00:00,  1.07it/s]\n"
          ]
        },
        {
          "name": "stdout",
          "output_type": "stream",
          "text": [
            "Epoch: 52, Loss: 1.18722403049469 Top1 Train Accuracy:  56.89253234863281 Top5 Train Accuracy:  97.04066467285156\n"
          ]
        },
        {
          "name": "stderr",
          "output_type": "stream",
          "text": [
            " 50%|█████     | 1/2 [00:01<00:01,  1.35s/it]"
          ]
        },
        {
          "name": "stdout",
          "output_type": "stream",
          "text": [
            "Epoch: 53, Loss: 1.212377905845642 Top1 Train Accuracy:  28.304035186767578 Top5 Train Accuracy:  48.53515625\n"
          ]
        },
        {
          "name": "stderr",
          "output_type": "stream",
          "text": [
            "100%|██████████| 2/2 [00:01<00:00,  1.08it/s]\n"
          ]
        },
        {
          "name": "stdout",
          "output_type": "stream",
          "text": [
            "Epoch: 53, Loss: 1.1838197708129883 Top1 Train Accuracy:  56.93473815917969 Top5 Train Accuracy:  97.05694580078125\n"
          ]
        },
        {
          "name": "stderr",
          "output_type": "stream",
          "text": [
            " 50%|█████     | 1/2 [00:01<00:01,  1.35s/it]"
          ]
        },
        {
          "name": "stdout",
          "output_type": "stream",
          "text": [
            "Epoch: 54, Loss: 1.209218144416809 Top1 Train Accuracy:  28.320310592651367 Top5 Train Accuracy:  48.53515625\n"
          ]
        },
        {
          "name": "stderr",
          "output_type": "stream",
          "text": [
            "100%|██████████| 2/2 [00:01<00:00,  1.08it/s]\n"
          ]
        },
        {
          "name": "stdout",
          "output_type": "stream",
          "text": [
            "Epoch: 54, Loss: 1.1805123090744019 Top1 Train Accuracy:  57.05474853515625 Top5 Train Accuracy:  97.031005859375\n"
          ]
        },
        {
          "name": "stderr",
          "output_type": "stream",
          "text": [
            " 50%|█████     | 1/2 [00:01<00:01,  1.37s/it]"
          ]
        },
        {
          "name": "stdout",
          "output_type": "stream",
          "text": [
            "Epoch: 55, Loss: 1.206149697303772 Top1 Train Accuracy:  28.33658790588379 Top5 Train Accuracy:  48.551429748535156\n"
          ]
        },
        {
          "name": "stderr",
          "output_type": "stream",
          "text": [
            "100%|██████████| 2/2 [00:01<00:00,  1.07it/s]\n"
          ]
        },
        {
          "name": "stdout",
          "output_type": "stream",
          "text": [
            "Epoch: 55, Loss: 1.1772964000701904 Top1 Train Accuracy:  57.04509353637695 Top5 Train Accuracy:  97.04727935791016\n"
          ]
        },
        {
          "name": "stderr",
          "output_type": "stream",
          "text": [
            " 50%|█████     | 1/2 [00:01<00:01,  1.36s/it]"
          ]
        },
        {
          "name": "stdout",
          "output_type": "stream",
          "text": [
            "Epoch: 56, Loss: 1.2031679153442383 Top1 Train Accuracy:  28.450519561767578 Top5 Train Accuracy:  48.53515625\n"
          ]
        },
        {
          "name": "stderr",
          "output_type": "stream",
          "text": [
            "100%|██████████| 2/2 [00:01<00:00,  1.06it/s]\n"
          ]
        },
        {
          "name": "stdout",
          "output_type": "stream",
          "text": [
            "Epoch: 56, Loss: 1.1741670370101929 Top1 Train Accuracy:  57.184959411621094 Top5 Train Accuracy:  97.031005859375\n"
          ]
        },
        {
          "name": "stderr",
          "output_type": "stream",
          "text": [
            " 50%|█████     | 1/2 [00:01<00:01,  1.35s/it]"
          ]
        },
        {
          "name": "stdout",
          "output_type": "stream",
          "text": [
            "Epoch: 57, Loss: 1.200269341468811 Top1 Train Accuracy:  28.466794967651367 Top5 Train Accuracy:  48.56770706176758\n"
          ]
        },
        {
          "name": "stderr",
          "output_type": "stream",
          "text": [
            "100%|██████████| 2/2 [00:01<00:00,  1.05it/s]\n"
          ]
        },
        {
          "name": "stdout",
          "output_type": "stream",
          "text": [
            "Epoch: 57, Loss: 1.1711190938949585 Top1 Train Accuracy:  57.304969787597656 Top5 Train Accuracy:  97.06355285644531\n"
          ]
        },
        {
          "name": "stderr",
          "output_type": "stream",
          "text": [
            " 50%|█████     | 1/2 [00:01<00:01,  1.38s/it]"
          ]
        },
        {
          "name": "stdout",
          "output_type": "stream",
          "text": [
            "Epoch: 58, Loss: 1.1974495649337769 Top1 Train Accuracy:  28.515623092651367 Top5 Train Accuracy:  48.56770706176758\n"
          ]
        },
        {
          "name": "stderr",
          "output_type": "stream",
          "text": [
            "100%|██████████| 2/2 [00:01<00:00,  1.05it/s]\n"
          ]
        },
        {
          "name": "stdout",
          "output_type": "stream",
          "text": [
            "Epoch: 58, Loss: 1.1681493520736694 Top1 Train Accuracy:  57.353797912597656 Top5 Train Accuracy:  97.06355285644531\n"
          ]
        },
        {
          "name": "stderr",
          "output_type": "stream",
          "text": [
            " 50%|█████     | 1/2 [00:01<00:01,  1.38s/it]"
          ]
        },
        {
          "name": "stdout",
          "output_type": "stream",
          "text": [
            "Epoch: 59, Loss: 1.1947052478790283 Top1 Train Accuracy:  28.597003936767578 Top5 Train Accuracy:  48.583984375\n"
          ]
        },
        {
          "name": "stderr",
          "output_type": "stream",
          "text": [
            "100%|██████████| 2/2 [00:01<00:00,  1.05it/s]\n"
          ]
        },
        {
          "name": "stdout",
          "output_type": "stream",
          "text": [
            "Epoch: 59, Loss: 1.1652531623840332 Top1 Train Accuracy:  57.3833122253418 Top5 Train Accuracy:  97.079833984375\n"
          ]
        },
        {
          "name": "stderr",
          "output_type": "stream",
          "text": [
            " 50%|█████     | 1/2 [00:01<00:01,  1.39s/it]"
          ]
        },
        {
          "name": "stdout",
          "output_type": "stream",
          "text": [
            "Epoch: 60, Loss: 1.1920331716537476 Top1 Train Accuracy:  28.645832061767578 Top5 Train Accuracy:  48.600257873535156\n"
          ]
        },
        {
          "name": "stderr",
          "output_type": "stream",
          "text": [
            "100%|██████████| 2/2 [00:01<00:00,  1.05it/s]\n"
          ]
        },
        {
          "name": "stdout",
          "output_type": "stream",
          "text": [
            "Epoch: 60, Loss: 1.1624279022216797 Top1 Train Accuracy:  57.458072662353516 Top5 Train Accuracy:  97.09610748291016\n"
          ]
        },
        {
          "name": "stderr",
          "output_type": "stream",
          "text": [
            " 50%|█████     | 1/2 [00:01<00:01,  1.39s/it]"
          ]
        },
        {
          "name": "stdout",
          "output_type": "stream",
          "text": [
            "Epoch: 61, Loss: 1.1894291639328003 Top1 Train Accuracy:  28.710935592651367 Top5 Train Accuracy:  48.600257873535156\n"
          ]
        },
        {
          "name": "stderr",
          "output_type": "stream",
          "text": [
            "100%|██████████| 2/2 [00:01<00:00,  1.04it/s]\n"
          ]
        },
        {
          "name": "stdout",
          "output_type": "stream",
          "text": [
            "Epoch: 61, Loss: 1.1596699953079224 Top1 Train Accuracy:  57.52317810058594 Top5 Train Accuracy:  97.09610748291016\n"
          ]
        },
        {
          "name": "stderr",
          "output_type": "stream",
          "text": [
            " 50%|█████     | 1/2 [00:01<00:01,  1.38s/it]"
          ]
        },
        {
          "name": "stdout",
          "output_type": "stream",
          "text": [
            "Epoch: 62, Loss: 1.1868906021118164 Top1 Train Accuracy:  28.77604103088379 Top5 Train Accuracy:  48.61653518676758\n"
          ]
        },
        {
          "name": "stderr",
          "output_type": "stream",
          "text": [
            "100%|██████████| 2/2 [00:01<00:00,  1.05it/s]\n"
          ]
        },
        {
          "name": "stdout",
          "output_type": "stream",
          "text": [
            "Epoch: 62, Loss: 1.1569766998291016 Top1 Train Accuracy:  57.64015197753906 Top5 Train Accuracy:  97.13832092285156\n"
          ]
        },
        {
          "name": "stderr",
          "output_type": "stream",
          "text": [
            " 50%|█████     | 1/2 [00:01<00:01,  1.39s/it]"
          ]
        },
        {
          "name": "stdout",
          "output_type": "stream",
          "text": [
            "Epoch: 63, Loss: 1.1844137907028198 Top1 Train Accuracy:  28.77604103088379 Top5 Train Accuracy:  48.61653518676758\n"
          ]
        },
        {
          "name": "stderr",
          "output_type": "stream",
          "text": [
            "100%|██████████| 2/2 [00:01<00:00,  1.04it/s]\n"
          ]
        },
        {
          "name": "stdout",
          "output_type": "stream",
          "text": [
            "Epoch: 63, Loss: 1.1543456315994263 Top1 Train Accuracy:  57.61421585083008 Top5 Train Accuracy:  97.13832092285156\n"
          ]
        },
        {
          "name": "stderr",
          "output_type": "stream",
          "text": [
            " 50%|█████     | 1/2 [00:01<00:01,  1.38s/it]"
          ]
        },
        {
          "name": "stdout",
          "output_type": "stream",
          "text": [
            "Epoch: 64, Loss: 1.1819959878921509 Top1 Train Accuracy:  28.808591842651367 Top5 Train Accuracy:  48.600257873535156\n"
          ]
        },
        {
          "name": "stderr",
          "output_type": "stream",
          "text": [
            "100%|██████████| 2/2 [00:01<00:00,  1.05it/s]\n"
          ]
        },
        {
          "name": "stdout",
          "output_type": "stream",
          "text": [
            "Epoch: 64, Loss: 1.1517741680145264 Top1 Train Accuracy:  57.672698974609375 Top5 Train Accuracy:  97.12203979492188\n"
          ]
        },
        {
          "name": "stderr",
          "output_type": "stream",
          "text": [
            " 50%|█████     | 1/2 [00:01<00:01,  1.38s/it]"
          ]
        },
        {
          "name": "stdout",
          "output_type": "stream",
          "text": [
            "Epoch: 65, Loss: 1.1796348094940186 Top1 Train Accuracy:  28.82486915588379 Top5 Train Accuracy:  48.61653518676758\n"
          ]
        },
        {
          "name": "stderr",
          "output_type": "stream",
          "text": [
            "100%|██████████| 2/2 [00:01<00:00,  1.05it/s]\n"
          ]
        },
        {
          "name": "stdout",
          "output_type": "stream",
          "text": [
            "Epoch: 65, Loss: 1.1492600440979004 Top1 Train Accuracy:  57.71491241455078 Top5 Train Accuracy:  97.190185546875\n"
          ]
        },
        {
          "name": "stderr",
          "output_type": "stream",
          "text": [
            " 50%|█████     | 1/2 [00:01<00:01,  1.38s/it]"
          ]
        },
        {
          "name": "stdout",
          "output_type": "stream",
          "text": [
            "Epoch: 66, Loss: 1.177327275276184 Top1 Train Accuracy:  28.841144561767578 Top5 Train Accuracy:  48.6328125\n"
          ]
        },
        {
          "name": "stderr",
          "output_type": "stream",
          "text": [
            "100%|██████████| 2/2 [00:01<00:00,  1.04it/s]\n"
          ]
        },
        {
          "name": "stdout",
          "output_type": "stream",
          "text": [
            "Epoch: 66, Loss: 1.1468000411987305 Top1 Train Accuracy:  57.834922790527344 Top5 Train Accuracy:  97.2323989868164\n"
          ]
        },
        {
          "name": "stderr",
          "output_type": "stream",
          "text": [
            " 50%|█████     | 1/2 [00:01<00:01,  1.37s/it]"
          ]
        },
        {
          "name": "stdout",
          "output_type": "stream",
          "text": [
            "Epoch: 67, Loss: 1.1750720739364624 Top1 Train Accuracy:  28.857419967651367 Top5 Train Accuracy:  48.6328125\n"
          ]
        },
        {
          "name": "stderr",
          "output_type": "stream",
          "text": [
            "100%|██████████| 2/2 [00:01<00:00,  1.06it/s]\n"
          ]
        },
        {
          "name": "stdout",
          "output_type": "stream",
          "text": [
            "Epoch: 67, Loss: 1.1443928480148315 Top1 Train Accuracy:  57.8511962890625 Top5 Train Accuracy:  97.2323989868164\n"
          ]
        },
        {
          "name": "stderr",
          "output_type": "stream",
          "text": [
            " 50%|█████     | 1/2 [00:01<00:01,  1.38s/it]"
          ]
        },
        {
          "name": "stdout",
          "output_type": "stream",
          "text": [
            "Epoch: 68, Loss: 1.172866702079773 Top1 Train Accuracy:  28.87369728088379 Top5 Train Accuracy:  48.6328125\n"
          ]
        },
        {
          "name": "stderr",
          "output_type": "stream",
          "text": [
            "100%|██████████| 2/2 [00:01<00:00,  1.07it/s]\n"
          ]
        },
        {
          "name": "stdout",
          "output_type": "stream",
          "text": [
            "Epoch: 68, Loss: 1.1420351266860962 Top1 Train Accuracy:  57.97120666503906 Top5 Train Accuracy:  97.2323989868164\n"
          ]
        },
        {
          "name": "stderr",
          "output_type": "stream",
          "text": [
            " 50%|█████     | 1/2 [00:01<00:01,  1.37s/it]"
          ]
        },
        {
          "name": "stdout",
          "output_type": "stream",
          "text": [
            "Epoch: 69, Loss: 1.170709252357483 Top1 Train Accuracy:  28.955076217651367 Top5 Train Accuracy:  48.6328125\n"
          ]
        },
        {
          "name": "stderr",
          "output_type": "stream",
          "text": [
            "100%|██████████| 2/2 [00:01<00:00,  1.05it/s]\n"
          ]
        },
        {
          "name": "stdout",
          "output_type": "stream",
          "text": [
            "Epoch: 69, Loss: 1.1397253274917603 Top1 Train Accuracy:  58.15631866455078 Top5 Train Accuracy:  97.2323989868164\n"
          ]
        },
        {
          "name": "stderr",
          "output_type": "stream",
          "text": [
            " 50%|█████     | 1/2 [00:01<00:01,  1.39s/it]"
          ]
        },
        {
          "name": "stdout",
          "output_type": "stream",
          "text": [
            "Epoch: 70, Loss: 1.1685982942581177 Top1 Train Accuracy:  28.955076217651367 Top5 Train Accuracy:  48.6328125\n"
          ]
        },
        {
          "name": "stderr",
          "output_type": "stream",
          "text": [
            "100%|██████████| 2/2 [00:01<00:00,  1.04it/s]\n"
          ]
        },
        {
          "name": "stdout",
          "output_type": "stream",
          "text": [
            "Epoch: 70, Loss: 1.1374616622924805 Top1 Train Accuracy:  58.20819091796875 Top5 Train Accuracy:  97.2323989868164\n"
          ]
        },
        {
          "name": "stderr",
          "output_type": "stream",
          "text": [
            " 50%|█████     | 1/2 [00:01<00:01,  1.37s/it]"
          ]
        },
        {
          "name": "stdout",
          "output_type": "stream",
          "text": [
            "Epoch: 71, Loss: 1.1665314435958862 Top1 Train Accuracy:  28.97135353088379 Top5 Train Accuracy:  48.6328125\n"
          ]
        },
        {
          "name": "stderr",
          "output_type": "stream",
          "text": [
            "100%|██████████| 2/2 [00:01<00:00,  1.08it/s]\n"
          ]
        },
        {
          "name": "stdout",
          "output_type": "stream",
          "text": [
            "Epoch: 71, Loss: 1.135242223739624 Top1 Train Accuracy:  58.224464416503906 Top5 Train Accuracy:  97.2323989868164\n"
          ]
        },
        {
          "name": "stderr",
          "output_type": "stream",
          "text": [
            " 50%|█████     | 1/2 [00:01<00:01,  1.37s/it]"
          ]
        },
        {
          "name": "stdout",
          "output_type": "stream",
          "text": [
            "Epoch: 72, Loss: 1.164507269859314 Top1 Train Accuracy:  28.987628936767578 Top5 Train Accuracy:  48.649085998535156\n"
          ]
        },
        {
          "name": "stderr",
          "output_type": "stream",
          "text": [
            "100%|██████████| 2/2 [00:01<00:00,  1.06it/s]\n"
          ]
        },
        {
          "name": "stdout",
          "output_type": "stream",
          "text": [
            "Epoch: 72, Loss: 1.1330652236938477 Top1 Train Accuracy:  58.31854248046875 Top5 Train Accuracy:  97.24867248535156\n"
          ]
        },
        {
          "name": "stderr",
          "output_type": "stream",
          "text": [
            " 50%|█████     | 1/2 [00:01<00:01,  1.38s/it]"
          ]
        },
        {
          "name": "stdout",
          "output_type": "stream",
          "text": [
            "Epoch: 73, Loss: 1.1625241041183472 Top1 Train Accuracy:  29.003904342651367 Top5 Train Accuracy:  48.6328125\n"
          ]
        },
        {
          "name": "stderr",
          "output_type": "stream",
          "text": [
            "100%|██████████| 2/2 [00:01<00:00,  1.05it/s]\n"
          ]
        },
        {
          "name": "stdout",
          "output_type": "stream",
          "text": [
            "Epoch: 73, Loss: 1.1309292316436768 Top1 Train Accuracy:  58.38668441772461 Top5 Train Accuracy:  97.2323989868164\n"
          ]
        },
        {
          "name": "stderr",
          "output_type": "stream",
          "text": [
            " 50%|█████     | 1/2 [00:01<00:01,  1.36s/it]"
          ]
        },
        {
          "name": "stdout",
          "output_type": "stream",
          "text": [
            "Epoch: 74, Loss: 1.1605803966522217 Top1 Train Accuracy:  29.003904342651367 Top5 Train Accuracy:  48.66536331176758\n"
          ]
        },
        {
          "name": "stderr",
          "output_type": "stream",
          "text": [
            "100%|██████████| 2/2 [00:01<00:00,  1.09it/s]\n"
          ]
        },
        {
          "name": "stdout",
          "output_type": "stream",
          "text": [
            "Epoch: 74, Loss: 1.1288330554962158 Top1 Train Accuracy:  58.54228591918945 Top5 Train Accuracy:  97.26495361328125\n"
          ]
        },
        {
          "name": "stderr",
          "output_type": "stream",
          "text": [
            " 50%|█████     | 1/2 [00:01<00:01,  1.39s/it]"
          ]
        },
        {
          "name": "stdout",
          "output_type": "stream",
          "text": [
            "Epoch: 75, Loss: 1.1586745977401733 Top1 Train Accuracy:  29.101560592651367 Top5 Train Accuracy:  48.66536331176758\n"
          ]
        },
        {
          "name": "stderr",
          "output_type": "stream",
          "text": [
            "100%|██████████| 2/2 [00:01<00:00,  1.04it/s]\n"
          ]
        },
        {
          "name": "stdout",
          "output_type": "stream",
          "text": [
            "Epoch: 75, Loss: 1.126774549484253 Top1 Train Accuracy:  58.66587829589844 Top5 Train Accuracy:  97.26495361328125\n"
          ]
        },
        {
          "name": "stderr",
          "output_type": "stream",
          "text": [
            " 50%|█████     | 1/2 [00:01<00:01,  1.38s/it]"
          ]
        },
        {
          "name": "stdout",
          "output_type": "stream",
          "text": [
            "Epoch: 76, Loss: 1.156805396080017 Top1 Train Accuracy:  29.134113311767578 Top5 Train Accuracy:  48.681640625\n"
          ]
        },
        {
          "name": "stderr",
          "output_type": "stream",
          "text": [
            "100%|██████████| 2/2 [00:01<00:00,  1.05it/s]\n"
          ]
        },
        {
          "name": "stdout",
          "output_type": "stream",
          "text": [
            "Epoch: 76, Loss: 1.1247529983520508 Top1 Train Accuracy:  58.724365234375 Top5 Train Accuracy:  97.30715942382812\n"
          ]
        },
        {
          "name": "stderr",
          "output_type": "stream",
          "text": [
            " 50%|█████     | 1/2 [00:01<00:01,  1.37s/it]"
          ]
        },
        {
          "name": "stdout",
          "output_type": "stream",
          "text": [
            "Epoch: 77, Loss: 1.154971718788147 Top1 Train Accuracy:  29.11783790588379 Top5 Train Accuracy:  48.66536331176758\n"
          ]
        },
        {
          "name": "stderr",
          "output_type": "stream",
          "text": [
            "100%|██████████| 2/2 [00:01<00:00,  1.05it/s]\n"
          ]
        },
        {
          "name": "stdout",
          "output_type": "stream",
          "text": [
            "Epoch: 77, Loss: 1.1227668523788452 Top1 Train Accuracy:  58.75995635986328 Top5 Train Accuracy:  97.29087829589844\n"
          ]
        },
        {
          "name": "stderr",
          "output_type": "stream",
          "text": [
            " 50%|█████     | 1/2 [00:01<00:01,  1.37s/it]"
          ]
        },
        {
          "name": "stdout",
          "output_type": "stream",
          "text": [
            "Epoch: 78, Loss: 1.1531716585159302 Top1 Train Accuracy:  29.11783790588379 Top5 Train Accuracy:  48.649085998535156\n"
          ]
        },
        {
          "name": "stderr",
          "output_type": "stream",
          "text": [
            "100%|██████████| 2/2 [00:01<00:00,  1.08it/s]\n"
          ]
        },
        {
          "name": "stdout",
          "output_type": "stream",
          "text": [
            "Epoch: 78, Loss: 1.1208148002624512 Top1 Train Accuracy:  58.81182098388672 Top5 Train Accuracy:  97.300537109375\n"
          ]
        },
        {
          "name": "stderr",
          "output_type": "stream",
          "text": [
            " 50%|█████     | 1/2 [00:01<00:01,  1.38s/it]"
          ]
        },
        {
          "name": "stdout",
          "output_type": "stream",
          "text": [
            "Epoch: 79, Loss: 1.1514047384262085 Top1 Train Accuracy:  29.134113311767578 Top5 Train Accuracy:  48.66536331176758\n"
          ]
        },
        {
          "name": "stderr",
          "output_type": "stream",
          "text": [
            "100%|██████████| 2/2 [00:01<00:00,  1.06it/s]\n"
          ]
        },
        {
          "name": "stdout",
          "output_type": "stream",
          "text": [
            "Epoch: 79, Loss: 1.1188958883285522 Top1 Train Accuracy:  58.77622985839844 Top5 Train Accuracy:  97.29087829589844\n"
          ]
        },
        {
          "name": "stderr",
          "output_type": "stream",
          "text": [
            " 50%|█████     | 1/2 [00:01<00:01,  1.35s/it]"
          ]
        },
        {
          "name": "stdout",
          "output_type": "stream",
          "text": [
            "Epoch: 80, Loss: 1.1496695280075073 Top1 Train Accuracy:  29.16666603088379 Top5 Train Accuracy:  48.681640625\n"
          ]
        },
        {
          "name": "stderr",
          "output_type": "stream",
          "text": [
            "100%|██████████| 2/2 [00:01<00:00,  1.09it/s]\n"
          ]
        },
        {
          "name": "stdout",
          "output_type": "stream",
          "text": [
            "Epoch: 80, Loss: 1.1170088052749634 Top1 Train Accuracy:  58.88658142089844 Top5 Train Accuracy:  97.30715942382812\n"
          ]
        },
        {
          "name": "stderr",
          "output_type": "stream",
          "text": [
            " 50%|█████     | 1/2 [00:01<00:01,  1.39s/it]"
          ]
        },
        {
          "name": "stdout",
          "output_type": "stream",
          "text": [
            "Epoch: 81, Loss: 1.1479650735855103 Top1 Train Accuracy:  29.199216842651367 Top5 Train Accuracy:  48.71419143676758\n"
          ]
        },
        {
          "name": "stderr",
          "output_type": "stream",
          "text": [
            "100%|██████████| 2/2 [00:01<00:00,  1.05it/s]\n"
          ]
        },
        {
          "name": "stdout",
          "output_type": "stream",
          "text": [
            "Epoch: 81, Loss: 1.1151524782180786 Top1 Train Accuracy:  58.8931999206543 Top5 Train Accuracy:  97.33970642089844\n"
          ]
        },
        {
          "name": "stderr",
          "output_type": "stream",
          "text": [
            " 50%|█████     | 1/2 [00:01<00:01,  1.37s/it]"
          ]
        },
        {
          "name": "stdout",
          "output_type": "stream",
          "text": [
            "Epoch: 82, Loss: 1.1462894678115845 Top1 Train Accuracy:  29.21549415588379 Top5 Train Accuracy:  48.73046875\n"
          ]
        },
        {
          "name": "stderr",
          "output_type": "stream",
          "text": [
            "100%|██████████| 2/2 [00:01<00:00,  1.06it/s]\n"
          ]
        },
        {
          "name": "stdout",
          "output_type": "stream",
          "text": [
            "Epoch: 82, Loss: 1.1133263111114502 Top1 Train Accuracy:  58.93540954589844 Top5 Train Accuracy:  97.35598754882812\n"
          ]
        },
        {
          "name": "stderr",
          "output_type": "stream",
          "text": [
            " 50%|█████     | 1/2 [00:01<00:01,  1.37s/it]"
          ]
        },
        {
          "name": "stdout",
          "output_type": "stream",
          "text": [
            "Epoch: 83, Loss: 1.1446430683135986 Top1 Train Accuracy:  29.26432228088379 Top5 Train Accuracy:  48.746742248535156\n"
          ]
        },
        {
          "name": "stderr",
          "output_type": "stream",
          "text": [
            "100%|██████████| 2/2 [00:01<00:00,  1.05it/s]\n"
          ]
        },
        {
          "name": "stdout",
          "output_type": "stream",
          "text": [
            "Epoch: 83, Loss: 1.111528992652893 Top1 Train Accuracy:  58.95830535888672 Top5 Train Accuracy:  97.37226104736328\n"
          ]
        },
        {
          "name": "stderr",
          "output_type": "stream",
          "text": [
            " 50%|█████     | 1/2 [00:01<00:01,  1.41s/it]"
          ]
        },
        {
          "name": "stdout",
          "output_type": "stream",
          "text": [
            "Epoch: 84, Loss: 1.1430240869522095 Top1 Train Accuracy:  29.296873092651367 Top5 Train Accuracy:  48.746742248535156\n"
          ]
        },
        {
          "name": "stderr",
          "output_type": "stream",
          "text": [
            "100%|██████████| 2/2 [00:01<00:00,  1.04it/s]\n"
          ]
        },
        {
          "name": "stdout",
          "output_type": "stream",
          "text": [
            "Epoch: 84, Loss: 1.1097593307495117 Top1 Train Accuracy:  59.09458923339844 Top5 Train Accuracy:  97.37226104736328\n"
          ]
        },
        {
          "name": "stderr",
          "output_type": "stream",
          "text": [
            " 50%|█████     | 1/2 [00:01<00:01,  1.37s/it]"
          ]
        },
        {
          "name": "stdout",
          "output_type": "stream",
          "text": [
            "Epoch: 85, Loss: 1.1414321660995483 Top1 Train Accuracy:  29.31315040588379 Top5 Train Accuracy:  48.746742248535156\n"
          ]
        },
        {
          "name": "stderr",
          "output_type": "stream",
          "text": [
            "100%|██████████| 2/2 [00:01<00:00,  1.05it/s]\n"
          ]
        },
        {
          "name": "stdout",
          "output_type": "stream",
          "text": [
            "Epoch: 85, Loss: 1.108017086982727 Top1 Train Accuracy:  59.136802673339844 Top5 Train Accuracy:  97.42413330078125\n"
          ]
        },
        {
          "name": "stderr",
          "output_type": "stream",
          "text": [
            " 50%|█████     | 1/2 [00:01<00:01,  1.38s/it]"
          ]
        },
        {
          "name": "stdout",
          "output_type": "stream",
          "text": [
            "Epoch: 86, Loss: 1.1398662328720093 Top1 Train Accuracy:  29.31315040588379 Top5 Train Accuracy:  48.746742248535156\n"
          ]
        },
        {
          "name": "stderr",
          "output_type": "stream",
          "text": [
            "100%|██████████| 2/2 [00:01<00:00,  1.05it/s]\n"
          ]
        },
        {
          "name": "stdout",
          "output_type": "stream",
          "text": [
            "Epoch: 86, Loss: 1.1063003540039062 Top1 Train Accuracy:  59.136802673339844 Top5 Train Accuracy:  97.45005798339844\n"
          ]
        },
        {
          "name": "stderr",
          "output_type": "stream",
          "text": [
            " 50%|█████     | 1/2 [00:01<00:01,  1.37s/it]"
          ]
        },
        {
          "name": "stdout",
          "output_type": "stream",
          "text": [
            "Epoch: 87, Loss: 1.1383254528045654 Top1 Train Accuracy:  29.31315040588379 Top5 Train Accuracy:  48.779296875\n"
          ]
        },
        {
          "name": "stderr",
          "output_type": "stream",
          "text": [
            "100%|██████████| 2/2 [00:01<00:00,  1.08it/s]\n"
          ]
        },
        {
          "name": "stdout",
          "output_type": "stream",
          "text": [
            "Epoch: 87, Loss: 1.104609489440918 Top1 Train Accuracy:  59.08493423461914 Top5 Train Accuracy:  97.48262023925781\n"
          ]
        },
        {
          "name": "stderr",
          "output_type": "stream",
          "text": [
            " 50%|█████     | 1/2 [00:01<00:01,  1.39s/it]"
          ]
        },
        {
          "name": "stdout",
          "output_type": "stream",
          "text": [
            "Epoch: 88, Loss: 1.1368091106414795 Top1 Train Accuracy:  29.345701217651367 Top5 Train Accuracy:  48.795570373535156\n"
          ]
        },
        {
          "name": "stderr",
          "output_type": "stream",
          "text": [
            "100%|██████████| 2/2 [00:01<00:00,  1.05it/s]\n"
          ]
        },
        {
          "name": "stdout",
          "output_type": "stream",
          "text": [
            "Epoch: 88, Loss: 1.1029425859451294 Top1 Train Accuracy:  59.11748504638672 Top5 Train Accuracy:  97.52482604980469\n"
          ]
        },
        {
          "name": "stderr",
          "output_type": "stream",
          "text": [
            " 50%|█████     | 1/2 [00:01<00:01,  1.39s/it]"
          ]
        },
        {
          "name": "stdout",
          "output_type": "stream",
          "text": [
            "Epoch: 89, Loss: 1.135316252708435 Top1 Train Accuracy:  29.36197853088379 Top5 Train Accuracy:  48.795570373535156\n"
          ]
        },
        {
          "name": "stderr",
          "output_type": "stream",
          "text": [
            "100%|██████████| 2/2 [00:01<00:00,  1.05it/s]\n"
          ]
        },
        {
          "name": "stdout",
          "output_type": "stream",
          "text": [
            "Epoch: 89, Loss: 1.1013001203536987 Top1 Train Accuracy:  59.159698486328125 Top5 Train Accuracy:  97.52482604980469\n"
          ]
        },
        {
          "name": "stderr",
          "output_type": "stream",
          "text": [
            " 50%|█████     | 1/2 [00:01<00:01,  1.37s/it]"
          ]
        },
        {
          "name": "stdout",
          "output_type": "stream",
          "text": [
            "Epoch: 90, Loss: 1.133846640586853 Top1 Train Accuracy:  29.345701217651367 Top5 Train Accuracy:  48.795570373535156\n"
          ]
        },
        {
          "name": "stderr",
          "output_type": "stream",
          "text": [
            "100%|██████████| 2/2 [00:01<00:00,  1.05it/s]\n"
          ]
        },
        {
          "name": "stdout",
          "output_type": "stream",
          "text": [
            "Epoch: 90, Loss: 1.0996804237365723 Top1 Train Accuracy:  59.14341735839844 Top5 Train Accuracy:  97.52482604980469\n"
          ]
        },
        {
          "name": "stderr",
          "output_type": "stream",
          "text": [
            " 50%|█████     | 1/2 [00:01<00:01,  1.38s/it]"
          ]
        },
        {
          "name": "stdout",
          "output_type": "stream",
          "text": [
            "Epoch: 91, Loss: 1.1323992013931274 Top1 Train Accuracy:  29.378253936767578 Top5 Train Accuracy:  48.795570373535156\n"
          ]
        },
        {
          "name": "stderr",
          "output_type": "stream",
          "text": [
            "100%|██████████| 2/2 [00:01<00:00,  1.05it/s]\n"
          ]
        },
        {
          "name": "stdout",
          "output_type": "stream",
          "text": [
            "Epoch: 91, Loss: 1.098083257675171 Top1 Train Accuracy:  59.17597198486328 Top5 Train Accuracy:  97.52482604980469\n"
          ]
        },
        {
          "name": "stderr",
          "output_type": "stream",
          "text": [
            " 50%|█████     | 1/2 [00:01<00:01,  1.37s/it]"
          ]
        },
        {
          "name": "stdout",
          "output_type": "stream",
          "text": [
            "Epoch: 92, Loss: 1.130973219871521 Top1 Train Accuracy:  29.394529342651367 Top5 Train Accuracy:  48.779296875\n"
          ]
        },
        {
          "name": "stderr",
          "output_type": "stream",
          "text": [
            "100%|██████████| 2/2 [00:01<00:00,  1.06it/s]\n"
          ]
        },
        {
          "name": "stdout",
          "output_type": "stream",
          "text": [
            "Epoch: 92, Loss: 1.0965075492858887 Top1 Train Accuracy:  59.24411392211914 Top5 Train Accuracy:  97.508544921875\n"
          ]
        },
        {
          "name": "stderr",
          "output_type": "stream",
          "text": [
            " 50%|█████     | 1/2 [00:01<00:01,  1.38s/it]"
          ]
        },
        {
          "name": "stdout",
          "output_type": "stream",
          "text": [
            "Epoch: 93, Loss: 1.1295682191848755 Top1 Train Accuracy:  29.475910186767578 Top5 Train Accuracy:  48.779296875\n"
          ]
        },
        {
          "name": "stderr",
          "output_type": "stream",
          "text": [
            "100%|██████████| 2/2 [00:01<00:00,  1.05it/s]\n"
          ]
        },
        {
          "name": "stdout",
          "output_type": "stream",
          "text": [
            "Epoch: 93, Loss: 1.0949537754058838 Top1 Train Accuracy:  59.27362823486328 Top5 Train Accuracy:  97.48262023925781\n"
          ]
        },
        {
          "name": "stderr",
          "output_type": "stream",
          "text": [
            " 50%|█████     | 1/2 [00:01<00:01,  1.38s/it]"
          ]
        },
        {
          "name": "stdout",
          "output_type": "stream",
          "text": [
            "Epoch: 94, Loss: 1.1281837224960327 Top1 Train Accuracy:  29.524738311767578 Top5 Train Accuracy:  48.76301956176758\n"
          ]
        },
        {
          "name": "stderr",
          "output_type": "stream",
          "text": [
            "100%|██████████| 2/2 [00:01<00:00,  1.05it/s]\n"
          ]
        },
        {
          "name": "stdout",
          "output_type": "stream",
          "text": [
            "Epoch: 94, Loss: 1.0934199094772339 Top1 Train Accuracy:  59.32245635986328 Top5 Train Accuracy:  97.46633911132812\n"
          ]
        },
        {
          "name": "stderr",
          "output_type": "stream",
          "text": [
            " 50%|█████     | 1/2 [00:01<00:01,  1.36s/it]"
          ]
        },
        {
          "name": "stdout",
          "output_type": "stream",
          "text": [
            "Epoch: 95, Loss: 1.1268188953399658 Top1 Train Accuracy:  29.524738311767578 Top5 Train Accuracy:  48.76301956176758\n"
          ]
        },
        {
          "name": "stderr",
          "output_type": "stream",
          "text": [
            "100%|██████████| 2/2 [00:01<00:00,  1.09it/s]\n"
          ]
        },
        {
          "name": "stdout",
          "output_type": "stream",
          "text": [
            "Epoch: 95, Loss: 1.0919063091278076 Top1 Train Accuracy:  59.37432098388672 Top5 Train Accuracy:  97.46633911132812\n"
          ]
        },
        {
          "name": "stderr",
          "output_type": "stream",
          "text": [
            " 50%|█████     | 1/2 [00:01<00:01,  1.38s/it]"
          ]
        },
        {
          "name": "stdout",
          "output_type": "stream",
          "text": [
            "Epoch: 96, Loss: 1.1254736185073853 Top1 Train Accuracy:  29.55729103088379 Top5 Train Accuracy:  48.795570373535156\n"
          ]
        },
        {
          "name": "stderr",
          "output_type": "stream",
          "text": [
            "100%|██████████| 2/2 [00:01<00:00,  1.05it/s]\n"
          ]
        },
        {
          "name": "stdout",
          "output_type": "stream",
          "text": [
            "Epoch: 96, Loss: 1.090411901473999 Top1 Train Accuracy:  59.380943298339844 Top5 Train Accuracy:  97.52482604980469\n"
          ]
        },
        {
          "name": "stderr",
          "output_type": "stream",
          "text": [
            " 50%|█████     | 1/2 [00:01<00:01,  1.37s/it]"
          ]
        },
        {
          "name": "stdout",
          "output_type": "stream",
          "text": [
            "Epoch: 97, Loss: 1.124146580696106 Top1 Train Accuracy:  29.55729103088379 Top5 Train Accuracy:  48.795570373535156\n"
          ]
        },
        {
          "name": "stderr",
          "output_type": "stream",
          "text": [
            "100%|██████████| 2/2 [00:01<00:00,  1.06it/s]\n"
          ]
        },
        {
          "name": "stdout",
          "output_type": "stream",
          "text": [
            "Epoch: 97, Loss: 1.0889365673065186 Top1 Train Accuracy:  59.43280792236328 Top5 Train Accuracy:  97.49888610839844\n"
          ]
        },
        {
          "name": "stderr",
          "output_type": "stream",
          "text": [
            " 50%|█████     | 1/2 [00:01<00:01,  1.39s/it]"
          ]
        },
        {
          "name": "stdout",
          "output_type": "stream",
          "text": [
            "Epoch: 98, Loss: 1.1228381395339966 Top1 Train Accuracy:  29.573566436767578 Top5 Train Accuracy:  48.795570373535156\n"
          ]
        },
        {
          "name": "stderr",
          "output_type": "stream",
          "text": [
            "100%|██████████| 2/2 [00:01<00:00,  1.04it/s]\n"
          ]
        },
        {
          "name": "stdout",
          "output_type": "stream",
          "text": [
            "Epoch: 98, Loss: 1.0874793529510498 Top1 Train Accuracy:  59.500953674316406 Top5 Train Accuracy:  97.52482604980469\n"
          ]
        },
        {
          "name": "stderr",
          "output_type": "stream",
          "text": [
            " 50%|█████     | 1/2 [00:01<00:01,  1.38s/it]"
          ]
        },
        {
          "name": "stdout",
          "output_type": "stream",
          "text": [
            "Epoch: 99, Loss: 1.121546983718872 Top1 Train Accuracy:  29.638669967651367 Top5 Train Accuracy:  48.81184768676758\n"
          ]
        },
        {
          "name": "stderr",
          "output_type": "stream",
          "text": [
            "100%|██████████| 2/2 [00:01<00:00,  1.05it/s]\n"
          ]
        },
        {
          "name": "stdout",
          "output_type": "stream",
          "text": [
            "Epoch: 99, Loss: 1.0860403776168823 Top1 Train Accuracy:  59.59198760986328 Top5 Train Accuracy:  97.56703186035156\n"
          ]
        },
        {
          "name": "stderr",
          "output_type": "stream",
          "text": [
            "100%|██████████| 3/3 [00:02<00:00,  1.12it/s]"
          ]
        },
        {
          "name": "stdout",
          "output_type": "stream",
          "text": [
            "Top1 Test Accuracy:  57.094482421875\n",
            "Top5 Test Accuracy:  96.75302124023438\n"
          ]
        },
        {
          "name": "stderr",
          "output_type": "stream",
          "text": [
            "\n"
          ]
        }
      ],
      "source": [
        "class linear_prob_Trainer:\n",
        "    def __init__(self, *args, **kwargs):\n",
        "        self.args = kwargs[\"args\"]\n",
        "        self.model = kwargs[\"model\"].to(self.args.device)\n",
        "        self.optimizer = kwargs[\"optimizer\"]\n",
        "        self.criterion = torch.nn.CrossEntropyLoss().to(self.args.device)\n",
        "        self.train_dataset = datasets.STL10(\n",
        "            \"./data\", split=\"train\", download=True, transform=transforms.ToTensor()\n",
        "        )\n",
        "\n",
        "        self.train_loader = torch.utils.data.DataLoader(\n",
        "            self.train_dataset,\n",
        "            batch_size=self.args.batch_size,\n",
        "            num_workers=1,\n",
        "            drop_last=False,\n",
        "        )\n",
        "\n",
        "        self.test_dataset = datasets.STL10(\n",
        "            \"./data\", split=\"test\", download=True, transform=transforms.ToTensor()\n",
        "        )\n",
        "\n",
        "        self.test_loader = torch.utils.data.DataLoader(\n",
        "            self.test_dataset,\n",
        "            batch_size=self.args.batch_size,\n",
        "            num_workers=1,\n",
        "            drop_last=False,\n",
        "        )\n",
        "\n",
        "    def accuracy(self, output, target, topk=(1,)):\n",
        "        with torch.no_grad():\n",
        "            maxk = max(topk)\n",
        "            batch_size = target.size(0)\n",
        "\n",
        "            _, pred = output.topk(maxk, 1, True, True)\n",
        "            pred = pred.t()\n",
        "            correct = pred.eq(target.view(1, -1).expand_as(pred))\n",
        "\n",
        "            res = []\n",
        "            for k in topk:\n",
        "                correct_k = correct[:k].reshape(-1).float().sum(0, keepdim=True)\n",
        "                res.append(correct_k.mul_(100.0 / batch_size))\n",
        "            return res\n",
        "\n",
        "    def train(self, dataloader):\n",
        "        top1_accs = []\n",
        "        top5_accs = []\n",
        "        for epoch in range(100):\n",
        "            top1_train_accuracy = 0\n",
        "            top5_train_accuracy = 0\n",
        "            for images, labels in tqdm(dataloader):\n",
        "                images, labels = images.to(self.args.device), labels.to(\n",
        "                    self.args.device\n",
        "                )\n",
        "                logits = self.model(images)\n",
        "                loss = self.criterion(logits, labels)\n",
        "                \n",
        "                top1 = self.accuracy(logits, labels, topk=(1,))\n",
        "                top1_train_accuracy += top1[0]\n",
        "                \n",
        "                top5 = self.accuracy(logits, labels, topk=(5,))\n",
        "                top5_train_accuracy += top5[0]\n",
        "\n",
        "                top1_accs.append(top1[0])\n",
        "                top5_accs.append(top5[0])\n",
        "\n",
        "                self.optimizer.zero_grad()\n",
        "                loss.backward()\n",
        "                self.optimizer.step()\n",
        "                print(\n",
        "                    f\"Epoch: {epoch}, Loss: {loss.item()}\",\n",
        "                    \"Top1 Train Accuracy: \",\n",
        "                    top1_train_accuracy.item() / len(dataloader),\n",
        "                    \"Top5 Train Accuracy: \",\n",
        "                    top5_train_accuracy.item() / len(dataloader),\n",
        "                )\n",
        "        return self.model, top1_accs, top5_accs\n",
        "\n",
        "    def test(self, dataloader):\n",
        "        \n",
        "        with torch.no_grad():\n",
        "            model.eval()\n",
        "            top1_test_accuracy = 0\n",
        "            top5_test_accuracy = 0\n",
        "            for images, labels in tqdm(dataloader):\n",
        "                images, labels = images.to(self.args.device), labels.to(\n",
        "                    self.args.device\n",
        "                )\n",
        "                logits = self.model(images)\n",
        "                top1 = self.accuracy(logits, labels, topk=(1,))\n",
        "                top1_test_accuracy += top1[0]\n",
        "                top5 = self.accuracy(logits, labels, topk=(5,))\n",
        "                top5_test_accuracy += top5[0]\n",
        "            top1_acc = top1_test_accuracy.item() / len(dataloader)\n",
        "            top5_acc = top5_test_accuracy.item() / len(dataloader)\n",
        "            print(\"Top1 Test Accuracy: \", top1_acc)\n",
        "            print(\"Top5 Test Accuracy: \", top5_acc)\n",
        "            return top1_acc, top5_acc\n",
        "\n",
        "model = Net()\n",
        "model.load_state_dict(torch.load(\"./HW3_Representation/simclr_models/best_model.pth\"))\n",
        "\n",
        "model.linear_probe()\n",
        "linear_probe_optimizer = torch.optim.Adam(model.parameters(), lr=args.lr, weight_decay=args.weight_decay)\n",
        "linear_prob_trainer = linear_prob_Trainer(args=args, model=model, optimizer=linear_probe_optimizer)\n",
        "model, top1_train, top5_train = linear_prob_trainer.train(linear_prob_trainer.train_loader)\n",
        "top1_test, top5_test = linear_prob_trainer.test(linear_prob_trainer.test_loader)"
      ]
    }
  ],
  "metadata": {
    "colab": {
      "provenance": []
    },
    "kernelspec": {
      "display_name": "Python 3",
      "name": "python3"
    },
    "language_info": {
      "codemirror_mode": {
        "name": "ipython",
        "version": 3
      },
      "file_extension": ".py",
      "mimetype": "text/x-python",
      "name": "python",
      "nbconvert_exporter": "python",
      "pygments_lexer": "ipython3",
      "version": "3.10.10"
    }
  },
  "nbformat": 4,
  "nbformat_minor": 0
}
